{
 "cells": [
  {
   "cell_type": "markdown",
   "metadata": {},
   "source": [
    "## Question No 2\n",
    "\n",
    "For this problem you will experiment with various classifiers provided as part of the scikit-learn (sklearn) machine learning module, as well as with some of its preprocessing and model evaluation capabilities.  [Note: This module is already part of the Anaconda distributions. However, if you are using standalone Python distributions, you will need to first obtain and install it]. You will work with a modified subset of a real data set of customers for a bank. This is the same data set used in Assignment 1. The data is provided in a CSV formatted file with the first row containing the attribute names. The description of the the different fields in the data are provided in this document."
   ]
  },
  {
   "cell_type": "code",
   "execution_count": 1,
   "metadata": {
    "collapsed": false
   },
   "outputs": [],
   "source": [
    "import pandas as pd\n",
    "import numpy as np\n",
    "import os \n",
    "os.chdir('E:/OneDrive/MSPA/CSC 478/Assignment/Assignment 2')"
   ]
  },
  {
   "cell_type": "markdown",
   "metadata": {},
   "source": [
    "## Part a\n",
    "\n",
    "Load and preprocess the data using Numpy or Pandas and the preprocessing functions from scikit-learn. Specifically, you need to separate the target attribute (\"pep\") from the portion of the data to be used for training and testing. You will need to convert the selected dataset into the Standard Spreadsheet format (scikit-learn functions generally assume that all attributes are in numeric form). Finally, you need to split the transformed data into training and test sets (using 80%-20% randomized split)"
   ]
  },
  {
   "cell_type": "code",
   "execution_count": 2,
   "metadata": {
    "collapsed": false
   },
   "outputs": [
    {
     "data": {
      "text/html": [
       "<div>\n",
       "<table border=\"1\" class=\"dataframe\">\n",
       "  <thead>\n",
       "    <tr style=\"text-align: right;\">\n",
       "      <th></th>\n",
       "      <th>age</th>\n",
       "      <th>income</th>\n",
       "      <th>children</th>\n",
       "      <th>gender</th>\n",
       "      <th>region</th>\n",
       "      <th>married</th>\n",
       "      <th>car</th>\n",
       "      <th>savings_acct</th>\n",
       "      <th>current_acct</th>\n",
       "      <th>mortgage</th>\n",
       "      <th>pep</th>\n",
       "    </tr>\n",
       "    <tr>\n",
       "      <th>id</th>\n",
       "      <th></th>\n",
       "      <th></th>\n",
       "      <th></th>\n",
       "      <th></th>\n",
       "      <th></th>\n",
       "      <th></th>\n",
       "      <th></th>\n",
       "      <th></th>\n",
       "      <th></th>\n",
       "      <th></th>\n",
       "      <th></th>\n",
       "    </tr>\n",
       "  </thead>\n",
       "  <tbody>\n",
       "    <tr>\n",
       "      <th>ID12101</th>\n",
       "      <td>48</td>\n",
       "      <td>17546.0</td>\n",
       "      <td>1</td>\n",
       "      <td>FEMALE</td>\n",
       "      <td>INNER_CITY</td>\n",
       "      <td>NO</td>\n",
       "      <td>NO</td>\n",
       "      <td>NO</td>\n",
       "      <td>NO</td>\n",
       "      <td>NO</td>\n",
       "      <td>YES</td>\n",
       "    </tr>\n",
       "    <tr>\n",
       "      <th>ID12102</th>\n",
       "      <td>40</td>\n",
       "      <td>30085.1</td>\n",
       "      <td>3</td>\n",
       "      <td>MALE</td>\n",
       "      <td>TOWN</td>\n",
       "      <td>YES</td>\n",
       "      <td>YES</td>\n",
       "      <td>NO</td>\n",
       "      <td>YES</td>\n",
       "      <td>YES</td>\n",
       "      <td>NO</td>\n",
       "    </tr>\n",
       "    <tr>\n",
       "      <th>ID12103</th>\n",
       "      <td>51</td>\n",
       "      <td>16575.4</td>\n",
       "      <td>0</td>\n",
       "      <td>FEMALE</td>\n",
       "      <td>INNER_CITY</td>\n",
       "      <td>YES</td>\n",
       "      <td>YES</td>\n",
       "      <td>YES</td>\n",
       "      <td>YES</td>\n",
       "      <td>NO</td>\n",
       "      <td>NO</td>\n",
       "    </tr>\n",
       "    <tr>\n",
       "      <th>ID12104</th>\n",
       "      <td>23</td>\n",
       "      <td>20375.4</td>\n",
       "      <td>3</td>\n",
       "      <td>FEMALE</td>\n",
       "      <td>TOWN</td>\n",
       "      <td>YES</td>\n",
       "      <td>NO</td>\n",
       "      <td>NO</td>\n",
       "      <td>YES</td>\n",
       "      <td>NO</td>\n",
       "      <td>NO</td>\n",
       "    </tr>\n",
       "    <tr>\n",
       "      <th>ID12105</th>\n",
       "      <td>57</td>\n",
       "      <td>50576.3</td>\n",
       "      <td>0</td>\n",
       "      <td>FEMALE</td>\n",
       "      <td>RURAL</td>\n",
       "      <td>YES</td>\n",
       "      <td>NO</td>\n",
       "      <td>YES</td>\n",
       "      <td>NO</td>\n",
       "      <td>NO</td>\n",
       "      <td>NO</td>\n",
       "    </tr>\n",
       "  </tbody>\n",
       "</table>\n",
       "</div>"
      ],
      "text/plain": [
       "         age   income  children  gender      region married  car savings_acct  \\\n",
       "id                                                                              \n",
       "ID12101   48  17546.0         1  FEMALE  INNER_CITY      NO   NO           NO   \n",
       "ID12102   40  30085.1         3    MALE        TOWN     YES  YES           NO   \n",
       "ID12103   51  16575.4         0  FEMALE  INNER_CITY     YES  YES          YES   \n",
       "ID12104   23  20375.4         3  FEMALE        TOWN     YES   NO           NO   \n",
       "ID12105   57  50576.3         0  FEMALE       RURAL     YES   NO          YES   \n",
       "\n",
       "        current_acct mortgage  pep  \n",
       "id                                  \n",
       "ID12101           NO       NO  YES  \n",
       "ID12102          YES      YES   NO  \n",
       "ID12103          YES       NO   NO  \n",
       "ID12104          YES       NO   NO  \n",
       "ID12105           NO       NO   NO  "
      ]
     },
     "execution_count": 2,
     "metadata": {},
     "output_type": "execute_result"
    }
   ],
   "source": [
    "df_bank = pd.read_csv('bank_data.csv', index_col= 0)\n",
    "df_bank.head()"
   ]
  },
  {
   "cell_type": "code",
   "execution_count": 3,
   "metadata": {
    "collapsed": false
   },
   "outputs": [
    {
     "data": {
      "text/plain": [
       "(600, 11)"
      ]
     },
     "execution_count": 3,
     "metadata": {},
     "output_type": "execute_result"
    }
   ],
   "source": [
    "#Renaming the columns\n",
    "name = ['Age', 'Income', 'Children', 'Gender', 'Region', 'Married', 'Car', 'Savings_Accounts',\n",
    "        'Current_Accounts', 'Mortgage', 'PEP']\n",
    "df_bank.columns =  name\n",
    "df_bank.columns\n",
    "# Checking the shape of the file\n",
    "df_bank.shape"
   ]
  },
  {
   "cell_type": "markdown",
   "metadata": {},
   "source": [
    "Random Reshuffling of the data"
   ]
  },
  {
   "cell_type": "code",
   "execution_count": 4,
   "metadata": {
    "collapsed": false
   },
   "outputs": [
    {
     "data": {
      "text/html": [
       "<div>\n",
       "<table border=\"1\" class=\"dataframe\">\n",
       "  <thead>\n",
       "    <tr style=\"text-align: right;\">\n",
       "      <th></th>\n",
       "      <th>Age</th>\n",
       "      <th>Income</th>\n",
       "      <th>Children</th>\n",
       "      <th>Gender</th>\n",
       "      <th>Region</th>\n",
       "      <th>Married</th>\n",
       "      <th>Car</th>\n",
       "      <th>Savings_Accounts</th>\n",
       "      <th>Current_Accounts</th>\n",
       "      <th>Mortgage</th>\n",
       "      <th>PEP</th>\n",
       "    </tr>\n",
       "    <tr>\n",
       "      <th>id</th>\n",
       "      <th></th>\n",
       "      <th></th>\n",
       "      <th></th>\n",
       "      <th></th>\n",
       "      <th></th>\n",
       "      <th></th>\n",
       "      <th></th>\n",
       "      <th></th>\n",
       "      <th></th>\n",
       "      <th></th>\n",
       "      <th></th>\n",
       "    </tr>\n",
       "  </thead>\n",
       "  <tbody>\n",
       "    <tr>\n",
       "      <th>ID12659</th>\n",
       "      <td>38</td>\n",
       "      <td>31290.6</td>\n",
       "      <td>0</td>\n",
       "      <td>FEMALE</td>\n",
       "      <td>SUBURBAN</td>\n",
       "      <td>YES</td>\n",
       "      <td>NO</td>\n",
       "      <td>YES</td>\n",
       "      <td>YES</td>\n",
       "      <td>NO</td>\n",
       "      <td>NO</td>\n",
       "    </tr>\n",
       "    <tr>\n",
       "      <th>ID12203</th>\n",
       "      <td>42</td>\n",
       "      <td>15499.9</td>\n",
       "      <td>0</td>\n",
       "      <td>MALE</td>\n",
       "      <td>INNER_CITY</td>\n",
       "      <td>YES</td>\n",
       "      <td>YES</td>\n",
       "      <td>NO</td>\n",
       "      <td>YES</td>\n",
       "      <td>YES</td>\n",
       "      <td>YES</td>\n",
       "    </tr>\n",
       "    <tr>\n",
       "      <th>ID12319</th>\n",
       "      <td>39</td>\n",
       "      <td>31693.5</td>\n",
       "      <td>0</td>\n",
       "      <td>MALE</td>\n",
       "      <td>TOWN</td>\n",
       "      <td>NO</td>\n",
       "      <td>YES</td>\n",
       "      <td>YES</td>\n",
       "      <td>NO</td>\n",
       "      <td>NO</td>\n",
       "      <td>YES</td>\n",
       "    </tr>\n",
       "    <tr>\n",
       "      <th>ID12324</th>\n",
       "      <td>67</td>\n",
       "      <td>43530.0</td>\n",
       "      <td>0</td>\n",
       "      <td>FEMALE</td>\n",
       "      <td>INNER_CITY</td>\n",
       "      <td>YES</td>\n",
       "      <td>NO</td>\n",
       "      <td>YES</td>\n",
       "      <td>YES</td>\n",
       "      <td>YES</td>\n",
       "      <td>NO</td>\n",
       "    </tr>\n",
       "    <tr>\n",
       "      <th>ID12666</th>\n",
       "      <td>30</td>\n",
       "      <td>24867.6</td>\n",
       "      <td>0</td>\n",
       "      <td>MALE</td>\n",
       "      <td>TOWN</td>\n",
       "      <td>YES</td>\n",
       "      <td>YES</td>\n",
       "      <td>YES</td>\n",
       "      <td>NO</td>\n",
       "      <td>NO</td>\n",
       "      <td>NO</td>\n",
       "    </tr>\n",
       "  </tbody>\n",
       "</table>\n",
       "</div>"
      ],
      "text/plain": [
       "         Age   Income  Children  Gender      Region Married  Car  \\\n",
       "id                                                                 \n",
       "ID12659   38  31290.6         0  FEMALE    SUBURBAN     YES   NO   \n",
       "ID12203   42  15499.9         0    MALE  INNER_CITY     YES  YES   \n",
       "ID12319   39  31693.5         0    MALE        TOWN      NO  YES   \n",
       "ID12324   67  43530.0         0  FEMALE  INNER_CITY     YES   NO   \n",
       "ID12666   30  24867.6         0    MALE        TOWN     YES  YES   \n",
       "\n",
       "        Savings_Accounts Current_Accounts Mortgage  PEP  \n",
       "id                                                       \n",
       "ID12659              YES              YES       NO   NO  \n",
       "ID12203               NO              YES      YES  YES  \n",
       "ID12319              YES               NO       NO  YES  \n",
       "ID12324              YES              YES      YES   NO  \n",
       "ID12666              YES               NO       NO   NO  "
      ]
     },
     "execution_count": 4,
     "metadata": {},
     "output_type": "execute_result"
    }
   ],
   "source": [
    "df_bank = df_bank.reindex(np.random.permutation(df_bank.index))\n",
    "df_bank.head()"
   ]
  },
  {
   "cell_type": "code",
   "execution_count": 5,
   "metadata": {
    "collapsed": false
   },
   "outputs": [
    {
     "data": {
      "text/html": [
       "<div>\n",
       "<table border=\"1\" class=\"dataframe\">\n",
       "  <thead>\n",
       "    <tr style=\"text-align: right;\">\n",
       "      <th></th>\n",
       "      <th>count</th>\n",
       "      <th>unique</th>\n",
       "      <th>top</th>\n",
       "      <th>freq</th>\n",
       "      <th>mean</th>\n",
       "      <th>std</th>\n",
       "      <th>min</th>\n",
       "      <th>25%</th>\n",
       "      <th>50%</th>\n",
       "      <th>75%</th>\n",
       "      <th>max</th>\n",
       "    </tr>\n",
       "  </thead>\n",
       "  <tbody>\n",
       "    <tr>\n",
       "      <th>Age</th>\n",
       "      <td>600</td>\n",
       "      <td>NaN</td>\n",
       "      <td>NaN</td>\n",
       "      <td>NaN</td>\n",
       "      <td>42.395</td>\n",
       "      <td>14.4249</td>\n",
       "      <td>18</td>\n",
       "      <td>30</td>\n",
       "      <td>42</td>\n",
       "      <td>55.25</td>\n",
       "      <td>67</td>\n",
       "    </tr>\n",
       "    <tr>\n",
       "      <th>Income</th>\n",
       "      <td>600</td>\n",
       "      <td>NaN</td>\n",
       "      <td>NaN</td>\n",
       "      <td>NaN</td>\n",
       "      <td>27524</td>\n",
       "      <td>12899.5</td>\n",
       "      <td>5014.21</td>\n",
       "      <td>17264.5</td>\n",
       "      <td>24925.3</td>\n",
       "      <td>36172.7</td>\n",
       "      <td>63130.1</td>\n",
       "    </tr>\n",
       "    <tr>\n",
       "      <th>Children</th>\n",
       "      <td>600</td>\n",
       "      <td>NaN</td>\n",
       "      <td>NaN</td>\n",
       "      <td>NaN</td>\n",
       "      <td>1.01167</td>\n",
       "      <td>1.05675</td>\n",
       "      <td>0</td>\n",
       "      <td>0</td>\n",
       "      <td>1</td>\n",
       "      <td>2</td>\n",
       "      <td>3</td>\n",
       "    </tr>\n",
       "    <tr>\n",
       "      <th>Gender</th>\n",
       "      <td>600</td>\n",
       "      <td>2</td>\n",
       "      <td>MALE</td>\n",
       "      <td>300</td>\n",
       "      <td>NaN</td>\n",
       "      <td>NaN</td>\n",
       "      <td>NaN</td>\n",
       "      <td>NaN</td>\n",
       "      <td>NaN</td>\n",
       "      <td>NaN</td>\n",
       "      <td>NaN</td>\n",
       "    </tr>\n",
       "    <tr>\n",
       "      <th>Region</th>\n",
       "      <td>600</td>\n",
       "      <td>4</td>\n",
       "      <td>INNER_CITY</td>\n",
       "      <td>269</td>\n",
       "      <td>NaN</td>\n",
       "      <td>NaN</td>\n",
       "      <td>NaN</td>\n",
       "      <td>NaN</td>\n",
       "      <td>NaN</td>\n",
       "      <td>NaN</td>\n",
       "      <td>NaN</td>\n",
       "    </tr>\n",
       "    <tr>\n",
       "      <th>Married</th>\n",
       "      <td>600</td>\n",
       "      <td>2</td>\n",
       "      <td>YES</td>\n",
       "      <td>396</td>\n",
       "      <td>NaN</td>\n",
       "      <td>NaN</td>\n",
       "      <td>NaN</td>\n",
       "      <td>NaN</td>\n",
       "      <td>NaN</td>\n",
       "      <td>NaN</td>\n",
       "      <td>NaN</td>\n",
       "    </tr>\n",
       "    <tr>\n",
       "      <th>Car</th>\n",
       "      <td>600</td>\n",
       "      <td>2</td>\n",
       "      <td>NO</td>\n",
       "      <td>304</td>\n",
       "      <td>NaN</td>\n",
       "      <td>NaN</td>\n",
       "      <td>NaN</td>\n",
       "      <td>NaN</td>\n",
       "      <td>NaN</td>\n",
       "      <td>NaN</td>\n",
       "      <td>NaN</td>\n",
       "    </tr>\n",
       "    <tr>\n",
       "      <th>Savings_Accounts</th>\n",
       "      <td>600</td>\n",
       "      <td>2</td>\n",
       "      <td>YES</td>\n",
       "      <td>414</td>\n",
       "      <td>NaN</td>\n",
       "      <td>NaN</td>\n",
       "      <td>NaN</td>\n",
       "      <td>NaN</td>\n",
       "      <td>NaN</td>\n",
       "      <td>NaN</td>\n",
       "      <td>NaN</td>\n",
       "    </tr>\n",
       "    <tr>\n",
       "      <th>Current_Accounts</th>\n",
       "      <td>600</td>\n",
       "      <td>2</td>\n",
       "      <td>YES</td>\n",
       "      <td>455</td>\n",
       "      <td>NaN</td>\n",
       "      <td>NaN</td>\n",
       "      <td>NaN</td>\n",
       "      <td>NaN</td>\n",
       "      <td>NaN</td>\n",
       "      <td>NaN</td>\n",
       "      <td>NaN</td>\n",
       "    </tr>\n",
       "    <tr>\n",
       "      <th>Mortgage</th>\n",
       "      <td>600</td>\n",
       "      <td>2</td>\n",
       "      <td>NO</td>\n",
       "      <td>391</td>\n",
       "      <td>NaN</td>\n",
       "      <td>NaN</td>\n",
       "      <td>NaN</td>\n",
       "      <td>NaN</td>\n",
       "      <td>NaN</td>\n",
       "      <td>NaN</td>\n",
       "      <td>NaN</td>\n",
       "    </tr>\n",
       "    <tr>\n",
       "      <th>PEP</th>\n",
       "      <td>600</td>\n",
       "      <td>2</td>\n",
       "      <td>NO</td>\n",
       "      <td>326</td>\n",
       "      <td>NaN</td>\n",
       "      <td>NaN</td>\n",
       "      <td>NaN</td>\n",
       "      <td>NaN</td>\n",
       "      <td>NaN</td>\n",
       "      <td>NaN</td>\n",
       "      <td>NaN</td>\n",
       "    </tr>\n",
       "  </tbody>\n",
       "</table>\n",
       "</div>"
      ],
      "text/plain": [
       "                 count unique         top freq     mean      std      min  \\\n",
       "Age                600    NaN         NaN  NaN   42.395  14.4249       18   \n",
       "Income             600    NaN         NaN  NaN    27524  12899.5  5014.21   \n",
       "Children           600    NaN         NaN  NaN  1.01167  1.05675        0   \n",
       "Gender             600      2        MALE  300      NaN      NaN      NaN   \n",
       "Region             600      4  INNER_CITY  269      NaN      NaN      NaN   \n",
       "Married            600      2         YES  396      NaN      NaN      NaN   \n",
       "Car                600      2          NO  304      NaN      NaN      NaN   \n",
       "Savings_Accounts   600      2         YES  414      NaN      NaN      NaN   \n",
       "Current_Accounts   600      2         YES  455      NaN      NaN      NaN   \n",
       "Mortgage           600      2          NO  391      NaN      NaN      NaN   \n",
       "PEP                600      2          NO  326      NaN      NaN      NaN   \n",
       "\n",
       "                      25%      50%      75%      max  \n",
       "Age                    30       42    55.25       67  \n",
       "Income            17264.5  24925.3  36172.7  63130.1  \n",
       "Children                0        1        2        3  \n",
       "Gender                NaN      NaN      NaN      NaN  \n",
       "Region                NaN      NaN      NaN      NaN  \n",
       "Married               NaN      NaN      NaN      NaN  \n",
       "Car                   NaN      NaN      NaN      NaN  \n",
       "Savings_Accounts      NaN      NaN      NaN      NaN  \n",
       "Current_Accounts      NaN      NaN      NaN      NaN  \n",
       "Mortgage              NaN      NaN      NaN      NaN  \n",
       "PEP                   NaN      NaN      NaN      NaN  "
      ]
     },
     "execution_count": 5,
     "metadata": {},
     "output_type": "execute_result"
    }
   ],
   "source": [
    "df_bank.describe(include= 'all').T"
   ]
  },
  {
   "cell_type": "code",
   "execution_count": 6,
   "metadata": {
    "collapsed": false
   },
   "outputs": [
    {
     "data": {
      "text/plain": [
       "Age                 0\n",
       "Income              0\n",
       "Children            0\n",
       "Gender              0\n",
       "Region              0\n",
       "Married             0\n",
       "Car                 0\n",
       "Savings_Accounts    0\n",
       "Current_Accounts    0\n",
       "Mortgage            0\n",
       "PEP                 0\n",
       "dtype: int64"
      ]
     },
     "execution_count": 6,
     "metadata": {},
     "output_type": "execute_result"
    }
   ],
   "source": [
    "#Verifying if there are any missing values or not \n",
    "#Apparently not\n",
    "df_bank.isnull().sum()"
   ]
  },
  {
   "cell_type": "markdown",
   "metadata": {},
   "source": [
    "Splitting the target variable"
   ]
  },
  {
   "cell_type": "code",
   "execution_count": 7,
   "metadata": {
    "collapsed": false
   },
   "outputs": [
    {
     "data": {
      "text/plain": [
       "id\n",
       "ID12659     NO\n",
       "ID12203    YES\n",
       "ID12319    YES\n",
       "ID12324     NO\n",
       "ID12666     NO\n",
       "Name: PEP, dtype: object"
      ]
     },
     "execution_count": 7,
     "metadata": {},
     "output_type": "execute_result"
    }
   ],
   "source": [
    "bank_target = df_bank.PEP\n",
    "bank_target.head()"
   ]
  },
  {
   "cell_type": "markdown",
   "metadata": {},
   "source": [
    "Creating data into Standard Spreadsheet Format"
   ]
  },
  {
   "cell_type": "code",
   "execution_count": 8,
   "metadata": {
    "collapsed": false
   },
   "outputs": [
    {
     "data": {
      "text/html": [
       "<div>\n",
       "<table border=\"1\" class=\"dataframe\">\n",
       "  <thead>\n",
       "    <tr style=\"text-align: right;\">\n",
       "      <th></th>\n",
       "      <th>Age</th>\n",
       "      <th>Income</th>\n",
       "      <th>Children</th>\n",
       "      <th>Gender</th>\n",
       "      <th>Region</th>\n",
       "      <th>Married</th>\n",
       "      <th>Car</th>\n",
       "      <th>Savings_Accounts</th>\n",
       "      <th>Current_Accounts</th>\n",
       "      <th>Mortgage</th>\n",
       "    </tr>\n",
       "    <tr>\n",
       "      <th>id</th>\n",
       "      <th></th>\n",
       "      <th></th>\n",
       "      <th></th>\n",
       "      <th></th>\n",
       "      <th></th>\n",
       "      <th></th>\n",
       "      <th></th>\n",
       "      <th></th>\n",
       "      <th></th>\n",
       "      <th></th>\n",
       "    </tr>\n",
       "  </thead>\n",
       "  <tbody>\n",
       "    <tr>\n",
       "      <th>ID12659</th>\n",
       "      <td>38</td>\n",
       "      <td>31290.6</td>\n",
       "      <td>0</td>\n",
       "      <td>FEMALE</td>\n",
       "      <td>SUBURBAN</td>\n",
       "      <td>YES</td>\n",
       "      <td>NO</td>\n",
       "      <td>YES</td>\n",
       "      <td>YES</td>\n",
       "      <td>NO</td>\n",
       "    </tr>\n",
       "    <tr>\n",
       "      <th>ID12203</th>\n",
       "      <td>42</td>\n",
       "      <td>15499.9</td>\n",
       "      <td>0</td>\n",
       "      <td>MALE</td>\n",
       "      <td>INNER_CITY</td>\n",
       "      <td>YES</td>\n",
       "      <td>YES</td>\n",
       "      <td>NO</td>\n",
       "      <td>YES</td>\n",
       "      <td>YES</td>\n",
       "    </tr>\n",
       "    <tr>\n",
       "      <th>ID12319</th>\n",
       "      <td>39</td>\n",
       "      <td>31693.5</td>\n",
       "      <td>0</td>\n",
       "      <td>MALE</td>\n",
       "      <td>TOWN</td>\n",
       "      <td>NO</td>\n",
       "      <td>YES</td>\n",
       "      <td>YES</td>\n",
       "      <td>NO</td>\n",
       "      <td>NO</td>\n",
       "    </tr>\n",
       "    <tr>\n",
       "      <th>ID12324</th>\n",
       "      <td>67</td>\n",
       "      <td>43530.0</td>\n",
       "      <td>0</td>\n",
       "      <td>FEMALE</td>\n",
       "      <td>INNER_CITY</td>\n",
       "      <td>YES</td>\n",
       "      <td>NO</td>\n",
       "      <td>YES</td>\n",
       "      <td>YES</td>\n",
       "      <td>YES</td>\n",
       "    </tr>\n",
       "    <tr>\n",
       "      <th>ID12666</th>\n",
       "      <td>30</td>\n",
       "      <td>24867.6</td>\n",
       "      <td>0</td>\n",
       "      <td>MALE</td>\n",
       "      <td>TOWN</td>\n",
       "      <td>YES</td>\n",
       "      <td>YES</td>\n",
       "      <td>YES</td>\n",
       "      <td>NO</td>\n",
       "      <td>NO</td>\n",
       "    </tr>\n",
       "  </tbody>\n",
       "</table>\n",
       "</div>"
      ],
      "text/plain": [
       "         Age   Income  Children  Gender      Region Married  Car  \\\n",
       "id                                                                 \n",
       "ID12659   38  31290.6         0  FEMALE    SUBURBAN     YES   NO   \n",
       "ID12203   42  15499.9         0    MALE  INNER_CITY     YES  YES   \n",
       "ID12319   39  31693.5         0    MALE        TOWN      NO  YES   \n",
       "ID12324   67  43530.0         0  FEMALE  INNER_CITY     YES   NO   \n",
       "ID12666   30  24867.6         0    MALE        TOWN     YES  YES   \n",
       "\n",
       "        Savings_Accounts Current_Accounts Mortgage  \n",
       "id                                                  \n",
       "ID12659              YES              YES       NO  \n",
       "ID12203               NO              YES      YES  \n",
       "ID12319              YES               NO       NO  \n",
       "ID12324              YES              YES      YES  \n",
       "ID12666              YES               NO       NO  "
      ]
     },
     "execution_count": 8,
     "metadata": {},
     "output_type": "execute_result"
    }
   ],
   "source": [
    "bank_data = df_bank.ix[:,'Age':'Mortgage']\n",
    "bank_data.head()"
   ]
  },
  {
   "cell_type": "code",
   "execution_count": 9,
   "metadata": {
    "collapsed": false
   },
   "outputs": [
    {
     "name": "stdout",
     "output_type": "stream",
     "text": [
      "(600, 19)\n"
     ]
    },
    {
     "data": {
      "text/html": [
       "<div>\n",
       "<table border=\"1\" class=\"dataframe\">\n",
       "  <thead>\n",
       "    <tr style=\"text-align: right;\">\n",
       "      <th></th>\n",
       "      <th>Age</th>\n",
       "      <th>Income</th>\n",
       "      <th>Children</th>\n",
       "      <th>Gender_FEMALE</th>\n",
       "      <th>Gender_MALE</th>\n",
       "      <th>Region_INNER_CITY</th>\n",
       "      <th>Region_RURAL</th>\n",
       "      <th>Region_SUBURBAN</th>\n",
       "      <th>Region_TOWN</th>\n",
       "      <th>Married_NO</th>\n",
       "      <th>Married_YES</th>\n",
       "      <th>Car_NO</th>\n",
       "      <th>Car_YES</th>\n",
       "      <th>Savings_Accounts_NO</th>\n",
       "      <th>Savings_Accounts_YES</th>\n",
       "      <th>Current_Accounts_NO</th>\n",
       "      <th>Current_Accounts_YES</th>\n",
       "      <th>Mortgage_NO</th>\n",
       "      <th>Mortgage_YES</th>\n",
       "    </tr>\n",
       "    <tr>\n",
       "      <th>id</th>\n",
       "      <th></th>\n",
       "      <th></th>\n",
       "      <th></th>\n",
       "      <th></th>\n",
       "      <th></th>\n",
       "      <th></th>\n",
       "      <th></th>\n",
       "      <th></th>\n",
       "      <th></th>\n",
       "      <th></th>\n",
       "      <th></th>\n",
       "      <th></th>\n",
       "      <th></th>\n",
       "      <th></th>\n",
       "      <th></th>\n",
       "      <th></th>\n",
       "      <th></th>\n",
       "      <th></th>\n",
       "      <th></th>\n",
       "    </tr>\n",
       "  </thead>\n",
       "  <tbody>\n",
       "    <tr>\n",
       "      <th>ID12659</th>\n",
       "      <td>38</td>\n",
       "      <td>31290.6</td>\n",
       "      <td>0</td>\n",
       "      <td>1.0</td>\n",
       "      <td>0.0</td>\n",
       "      <td>0.0</td>\n",
       "      <td>0.0</td>\n",
       "      <td>1.0</td>\n",
       "      <td>0.0</td>\n",
       "      <td>0.0</td>\n",
       "      <td>1.0</td>\n",
       "      <td>1.0</td>\n",
       "      <td>0.0</td>\n",
       "      <td>0.0</td>\n",
       "      <td>1.0</td>\n",
       "      <td>0.0</td>\n",
       "      <td>1.0</td>\n",
       "      <td>1.0</td>\n",
       "      <td>0.0</td>\n",
       "    </tr>\n",
       "    <tr>\n",
       "      <th>ID12203</th>\n",
       "      <td>42</td>\n",
       "      <td>15499.9</td>\n",
       "      <td>0</td>\n",
       "      <td>0.0</td>\n",
       "      <td>1.0</td>\n",
       "      <td>1.0</td>\n",
       "      <td>0.0</td>\n",
       "      <td>0.0</td>\n",
       "      <td>0.0</td>\n",
       "      <td>0.0</td>\n",
       "      <td>1.0</td>\n",
       "      <td>0.0</td>\n",
       "      <td>1.0</td>\n",
       "      <td>1.0</td>\n",
       "      <td>0.0</td>\n",
       "      <td>0.0</td>\n",
       "      <td>1.0</td>\n",
       "      <td>0.0</td>\n",
       "      <td>1.0</td>\n",
       "    </tr>\n",
       "    <tr>\n",
       "      <th>ID12319</th>\n",
       "      <td>39</td>\n",
       "      <td>31693.5</td>\n",
       "      <td>0</td>\n",
       "      <td>0.0</td>\n",
       "      <td>1.0</td>\n",
       "      <td>0.0</td>\n",
       "      <td>0.0</td>\n",
       "      <td>0.0</td>\n",
       "      <td>1.0</td>\n",
       "      <td>1.0</td>\n",
       "      <td>0.0</td>\n",
       "      <td>0.0</td>\n",
       "      <td>1.0</td>\n",
       "      <td>0.0</td>\n",
       "      <td>1.0</td>\n",
       "      <td>1.0</td>\n",
       "      <td>0.0</td>\n",
       "      <td>1.0</td>\n",
       "      <td>0.0</td>\n",
       "    </tr>\n",
       "    <tr>\n",
       "      <th>ID12324</th>\n",
       "      <td>67</td>\n",
       "      <td>43530.0</td>\n",
       "      <td>0</td>\n",
       "      <td>1.0</td>\n",
       "      <td>0.0</td>\n",
       "      <td>1.0</td>\n",
       "      <td>0.0</td>\n",
       "      <td>0.0</td>\n",
       "      <td>0.0</td>\n",
       "      <td>0.0</td>\n",
       "      <td>1.0</td>\n",
       "      <td>1.0</td>\n",
       "      <td>0.0</td>\n",
       "      <td>0.0</td>\n",
       "      <td>1.0</td>\n",
       "      <td>0.0</td>\n",
       "      <td>1.0</td>\n",
       "      <td>0.0</td>\n",
       "      <td>1.0</td>\n",
       "    </tr>\n",
       "    <tr>\n",
       "      <th>ID12666</th>\n",
       "      <td>30</td>\n",
       "      <td>24867.6</td>\n",
       "      <td>0</td>\n",
       "      <td>0.0</td>\n",
       "      <td>1.0</td>\n",
       "      <td>0.0</td>\n",
       "      <td>0.0</td>\n",
       "      <td>0.0</td>\n",
       "      <td>1.0</td>\n",
       "      <td>0.0</td>\n",
       "      <td>1.0</td>\n",
       "      <td>0.0</td>\n",
       "      <td>1.0</td>\n",
       "      <td>0.0</td>\n",
       "      <td>1.0</td>\n",
       "      <td>1.0</td>\n",
       "      <td>0.0</td>\n",
       "      <td>1.0</td>\n",
       "      <td>0.0</td>\n",
       "    </tr>\n",
       "  </tbody>\n",
       "</table>\n",
       "</div>"
      ],
      "text/plain": [
       "         Age   Income  Children  Gender_FEMALE  Gender_MALE  \\\n",
       "id                                                            \n",
       "ID12659   38  31290.6         0            1.0          0.0   \n",
       "ID12203   42  15499.9         0            0.0          1.0   \n",
       "ID12319   39  31693.5         0            0.0          1.0   \n",
       "ID12324   67  43530.0         0            1.0          0.0   \n",
       "ID12666   30  24867.6         0            0.0          1.0   \n",
       "\n",
       "         Region_INNER_CITY  Region_RURAL  Region_SUBURBAN  Region_TOWN  \\\n",
       "id                                                                       \n",
       "ID12659                0.0           0.0              1.0          0.0   \n",
       "ID12203                1.0           0.0              0.0          0.0   \n",
       "ID12319                0.0           0.0              0.0          1.0   \n",
       "ID12324                1.0           0.0              0.0          0.0   \n",
       "ID12666                0.0           0.0              0.0          1.0   \n",
       "\n",
       "         Married_NO  Married_YES  Car_NO  Car_YES  Savings_Accounts_NO  \\\n",
       "id                                                                       \n",
       "ID12659         0.0          1.0     1.0      0.0                  0.0   \n",
       "ID12203         0.0          1.0     0.0      1.0                  1.0   \n",
       "ID12319         1.0          0.0     0.0      1.0                  0.0   \n",
       "ID12324         0.0          1.0     1.0      0.0                  0.0   \n",
       "ID12666         0.0          1.0     0.0      1.0                  0.0   \n",
       "\n",
       "         Savings_Accounts_YES  Current_Accounts_NO  Current_Accounts_YES  \\\n",
       "id                                                                         \n",
       "ID12659                   1.0                  0.0                   1.0   \n",
       "ID12203                   0.0                  0.0                   1.0   \n",
       "ID12319                   1.0                  1.0                   0.0   \n",
       "ID12324                   1.0                  0.0                   1.0   \n",
       "ID12666                   1.0                  1.0                   0.0   \n",
       "\n",
       "         Mortgage_NO  Mortgage_YES  \n",
       "id                                  \n",
       "ID12659          1.0           0.0  \n",
       "ID12203          0.0           1.0  \n",
       "ID12319          1.0           0.0  \n",
       "ID12324          0.0           1.0  \n",
       "ID12666          1.0           0.0  "
      ]
     },
     "execution_count": 9,
     "metadata": {},
     "output_type": "execute_result"
    }
   ],
   "source": [
    "bank_data = pd.get_dummies(df_bank[['Age', 'Income', 'Children', 'Gender', 'Region', 'Married', 'Car', \n",
    "                                    'Savings_Accounts', 'Current_Accounts','Mortgage']])\n",
    "# Checking the shape of the file\n",
    "print bank_data.shape\n",
    "# Checking the first five values of the data\n",
    "bank_data.head()"
   ]
  },
  {
   "cell_type": "markdown",
   "metadata": {},
   "source": [
    "Divide the data into Training and Testing Set, 80% and 20% respectively "
   ]
  },
  {
   "cell_type": "code",
   "execution_count": 10,
   "metadata": {
    "collapsed": false
   },
   "outputs": [
    {
     "name": "stdout",
     "output_type": "stream",
     "text": [
      "(480, 19)\n",
      "(120, 19)\n"
     ]
    }
   ],
   "source": [
    "tpercent = 0.8\n",
    "tsize = int(np.floor(tpercent *len(bank_data)))\n",
    "bank_train = bank_data.iloc[:tsize,:]\n",
    "bank_test = bank_data.iloc[tsize:,:]\n",
    "\n",
    "# Checking the shape of the file\n",
    "print bank_train.shape\n",
    "print bank_test.shape"
   ]
  },
  {
   "cell_type": "markdown",
   "metadata": {},
   "source": [
    "Doing the same thing for the Target Variable"
   ]
  },
  {
   "cell_type": "code",
   "execution_count": 11,
   "metadata": {
    "collapsed": false
   },
   "outputs": [
    {
     "name": "stdout",
     "output_type": "stream",
     "text": [
      "(480L,)\n",
      "(120L,)\n"
     ]
    }
   ],
   "source": [
    "bank_target_train = bank_target[0:int(tsize)]\n",
    "bank_target_test = bank_target[int(tsize):len(bank_data)]\n",
    "\n",
    "print bank_target_train.shape\n",
    "print bank_target_test.shape"
   ]
  },
  {
   "cell_type": "markdown",
   "metadata": {},
   "source": [
    "## Part b.\n",
    "Run scikit-learn's KNN classifier on the test set. Note: in the case of KNN, you must first normalize the data so that all attributes are in the same scale (normalize so that the values are between 0 and 1). Generate the confusion matrix (visualize it using Matplotlib), as well as the classification report. Also, computing the average accuracy score. Experiment with different values of K and the weight parameter for KNN to see if you can improve accuracy (you do not need to provide the details of all of your experimentation, but provide a short discussion what parameters worked best)"
   ]
  },
  {
   "cell_type": "code",
   "execution_count": 12,
   "metadata": {
    "collapsed": true
   },
   "outputs": [],
   "source": [
    "from sklearn import preprocessing\n",
    "\n",
    "min_max_scaler = preprocessing.MinMaxScaler().fit(bank_train)"
   ]
  },
  {
   "cell_type": "code",
   "execution_count": 13,
   "metadata": {
    "collapsed": true
   },
   "outputs": [],
   "source": [
    "bank_train_norm = min_max_scaler.fit_transform(bank_train) \n",
    "bank_test_norm = min_max_scaler.fit_transform(bank_test)"
   ]
  },
  {
   "cell_type": "code",
   "execution_count": 14,
   "metadata": {
    "collapsed": false
   },
   "outputs": [
    {
     "data": {
      "text/plain": [
       "array([[ 0.06,  0.02,  0.33,  1.  ,  0.  ,  0.  ,  0.  ,  0.  ,  1.  ,  1.  ,\n",
       "         0.  ,  1.  ,  0.  ,  0.  ,  1.  ,  0.  ,  1.  ,  0.  ,  1.  ],\n",
       "       [ 0.42,  0.25,  0.  ,  0.  ,  1.  ,  1.  ,  0.  ,  0.  ,  0.  ,  0.  ,\n",
       "         1.  ,  1.  ,  0.  ,  1.  ,  0.  ,  0.  ,  1.  ,  1.  ,  0.  ],\n",
       "       [ 0.1 ,  0.14,  0.  ,  0.  ,  1.  ,  0.  ,  1.  ,  0.  ,  0.  ,  0.  ,\n",
       "         1.  ,  0.  ,  1.  ,  0.  ,  1.  ,  1.  ,  0.  ,  1.  ,  0.  ],\n",
       "       [ 0.19,  0.05,  0.  ,  1.  ,  0.  ,  1.  ,  0.  ,  0.  ,  0.  ,  0.  ,\n",
       "         1.  ,  0.  ,  1.  ,  0.  ,  1.  ,  0.  ,  1.  ,  1.  ,  0.  ]])"
      ]
     },
     "execution_count": 14,
     "metadata": {},
     "output_type": "execute_result"
    }
   ],
   "source": [
    "np.set_printoptions(precision=2, linewidth=80)\n",
    "bank_test_norm[0:4]"
   ]
  },
  {
   "cell_type": "markdown",
   "metadata": {},
   "source": [
    "For consistency, the target variables are also converted into array"
   ]
  },
  {
   "cell_type": "code",
   "execution_count": 86,
   "metadata": {
    "collapsed": true
   },
   "outputs": [],
   "source": [
    "bank_target_train = np.array(bank_target_train)\n",
    "bank_target_test = np.array(bank_target_test)"
   ]
  },
  {
   "cell_type": "code",
   "execution_count": 15,
   "metadata": {
    "collapsed": true
   },
   "outputs": [],
   "source": [
    "from sklearn import neighbors, tree, naive_bayes"
   ]
  },
  {
   "cell_type": "code",
   "execution_count": 16,
   "metadata": {
    "collapsed": false
   },
   "outputs": [
    {
     "data": {
      "text/plain": [
       "KNeighborsClassifier(algorithm='auto', leaf_size=30, metric='minkowski',\n",
       "           metric_params=None, n_jobs=1, n_neighbors=8, p=2,\n",
       "           weights='distance')"
      ]
     },
     "execution_count": 16,
     "metadata": {},
     "output_type": "execute_result"
    }
   ],
   "source": [
    "n_neighbors = 8\n",
    "knnclf = neighbors.KNeighborsClassifier(n_neighbors , weights = 'distance')\n",
    "knnclf.fit(bank_train_norm, bank_target_train)"
   ]
  },
  {
   "cell_type": "code",
   "execution_count": 17,
   "metadata": {
    "collapsed": true
   },
   "outputs": [],
   "source": [
    "knnpreds_test = knnclf.predict(bank_test_norm)"
   ]
  },
  {
   "cell_type": "markdown",
   "metadata": {},
   "source": [
    "For Classification Matrix & Confusion Matrix"
   ]
  },
  {
   "cell_type": "code",
   "execution_count": 18,
   "metadata": {
    "collapsed": false
   },
   "outputs": [
    {
     "name": "stdout",
     "output_type": "stream",
     "text": [
      "             precision    recall  f1-score   support\n",
      "\n",
      "         NO       0.83      0.76      0.79        75\n",
      "        YES       0.65      0.73      0.69        45\n",
      "\n",
      "avg / total       0.76      0.75      0.75       120\n",
      "\n"
     ]
    }
   ],
   "source": [
    "from sklearn.metrics import classification_report\n",
    "print classification_report(bank_target_test, knnpreds_test)"
   ]
  },
  {
   "cell_type": "code",
   "execution_count": 19,
   "metadata": {
    "collapsed": false
   },
   "outputs": [
    {
     "data": {
      "text/plain": [
       "array([[57, 18],\n",
       "       [12, 33]])"
      ]
     },
     "execution_count": 19,
     "metadata": {},
     "output_type": "execute_result"
    }
   ],
   "source": [
    "from sklearn.metrics import confusion_matrix\n",
    "\n",
    "knn_conf_mat = confusion_matrix(bank_target_test, knnpreds_test)\n",
    "knn_conf_mat"
   ]
  },
  {
   "cell_type": "markdown",
   "metadata": {},
   "source": [
    "Visualizing Confusion Matrix using Matplotlib"
   ]
  },
  {
   "cell_type": "code",
   "execution_count": 20,
   "metadata": {
    "collapsed": false
   },
   "outputs": [
    {
     "data": {
      "image/png": "[encoded data removed]",
      "text/plain": [
       "<matplotlib.figure.Figure at 0xa00d3c8>"
      ]
     },
     "metadata": {},
     "output_type": "display_data"
    }
   ],
   "source": [
    "import pylab as plt\n",
    "%matplotlib inline\n",
    "plt.matshow(knn_conf_mat)\n",
    "plt.title('Confusion matrix')\n",
    "plt.colorbar()\n",
    "plt.ylabel('Actual')\n",
    "plt.xlabel('Predicted')\n",
    "plt.show()"
   ]
  },
  {
   "cell_type": "code",
   "execution_count": 21,
   "metadata": {
    "collapsed": false
   },
   "outputs": [
    {
     "name": "stdout",
     "output_type": "stream",
     "text": [
      "The Average Accuracy for the Testing Set is: 75.00 Percent\n"
     ]
    }
   ],
   "source": [
    "#Average Accuracy across the test instances\n",
    "print 'The Average Accuracy for the Testing Set is: %0.2f Percent' % (knnclf.score(bank_test_norm, bank_target_test)*100)"
   ]
  },
  {
   "cell_type": "code",
   "execution_count": 22,
   "metadata": {
    "collapsed": false
   },
   "outputs": [
    {
     "name": "stdout",
     "output_type": "stream",
     "text": [
      "The Average Accuracy for the Training Set is: 100.00 Percent\n"
     ]
    }
   ],
   "source": [
    "# Check for underfitting or overfitting\n",
    "print 'The Average Accuracy for the Training Set is: %0.2f Percent' % (knnclf.score(bank_train_norm, bank_target_train)*100)"
   ]
  },
  {
   "cell_type": "code",
   "execution_count": 23,
   "metadata": {
    "collapsed": true
   },
   "outputs": [],
   "source": [
    "neighbor_list = [2,4,6,8,10,12,14,16,18]\n",
    "weight_list = ['distance', 'uniform']\n",
    "dist_dict ={}\n",
    "uni_dict ={}\n",
    "\n",
    "for weight in weight_list:\n",
    "        for neighbor in neighbor_list:\n",
    "            knnclf = neighbors.KNeighborsClassifier(neighbor , weight)\n",
    "            knnclf.fit(bank_train_norm, bank_target_train)\n",
    "            knnpreds_test = knnclf.predict(bank_test_norm)\n",
    "            accuracy = np.around((knnclf.score(bank_test_norm, bank_target_test)*100), 2)\n",
    "            if weight == 'distance':\n",
    "                dist_dict[neighbor] = dist_dict.get(neighbor, accuracy)\n",
    "            else:\n",
    "                uni_dict[neighbor] = uni_dict.get(neighbor, accuracy)\n"
   ]
  },
  {
   "cell_type": "code",
   "execution_count": 24,
   "metadata": {
    "collapsed": false
   },
   "outputs": [
    {
     "data": {
      "text/html": [
       "<div>\n",
       "<table border=\"1\" class=\"dataframe\">\n",
       "  <thead>\n",
       "    <tr style=\"text-align: right;\">\n",
       "      <th></th>\n",
       "      <th>Distance</th>\n",
       "      <th>Uniform</th>\n",
       "    </tr>\n",
       "  </thead>\n",
       "  <tbody>\n",
       "    <tr>\n",
       "      <th>2</th>\n",
       "      <td>70.83</td>\n",
       "      <td>73.33</td>\n",
       "    </tr>\n",
       "    <tr>\n",
       "      <th>4</th>\n",
       "      <td>75.83</td>\n",
       "      <td>75.00</td>\n",
       "    </tr>\n",
       "    <tr>\n",
       "      <th>6</th>\n",
       "      <td>73.33</td>\n",
       "      <td>72.50</td>\n",
       "    </tr>\n",
       "    <tr>\n",
       "      <th>8</th>\n",
       "      <td>75.00</td>\n",
       "      <td>73.33</td>\n",
       "    </tr>\n",
       "    <tr>\n",
       "      <th>10</th>\n",
       "      <td>75.83</td>\n",
       "      <td>77.50</td>\n",
       "    </tr>\n",
       "    <tr>\n",
       "      <th>12</th>\n",
       "      <td>75.83</td>\n",
       "      <td>78.33</td>\n",
       "    </tr>\n",
       "    <tr>\n",
       "      <th>14</th>\n",
       "      <td>75.00</td>\n",
       "      <td>75.00</td>\n",
       "    </tr>\n",
       "    <tr>\n",
       "      <th>16</th>\n",
       "      <td>70.83</td>\n",
       "      <td>71.67</td>\n",
       "    </tr>\n",
       "    <tr>\n",
       "      <th>18</th>\n",
       "      <td>71.67</td>\n",
       "      <td>71.67</td>\n",
       "    </tr>\n",
       "  </tbody>\n",
       "</table>\n",
       "</div>"
      ],
      "text/plain": [
       "    Distance  Uniform\n",
       "2      70.83    73.33\n",
       "4      75.83    75.00\n",
       "6      73.33    72.50\n",
       "8      75.00    73.33\n",
       "10     75.83    77.50\n",
       "12     75.83    78.33\n",
       "14     75.00    75.00\n",
       "16     70.83    71.67\n",
       "18     71.67    71.67"
      ]
     },
     "execution_count": 24,
     "metadata": {},
     "output_type": "execute_result"
    }
   ],
   "source": [
    "from collections import defaultdict\n",
    "compl_dict = defaultdict(list)\n",
    "\n",
    "for d in (dist_dict, uni_dict): # you can list as many input dicts as you want here\n",
    "    for key, value in d.iteritems():\n",
    "        compl_dict[key].append(value)\n",
    "        \n",
    "df_both = pd.DataFrame(compl_dict.values(), index = compl_dict.keys(), columns = ['Distance', 'Uniform'])\n",
    "df_both"
   ]
  },
  {
   "cell_type": "markdown",
   "metadata": {
    "collapsed": true
   },
   "source": [
    "## Analysis for Different Parameters\n",
    "\n",
    "Based on the different values of neighbors and distances, we can see that the highest accuracy is 78.00% which is achieved when k = 12, metrics = Uniform. Similarly when the metric was 'distance', the highest accuracy was 75.83% when k = 4, 10, 12."
   ]
  },
  {
   "cell_type": "markdown",
   "metadata": {},
   "source": [
    "## Part c\n",
    "\n",
    "Repeat the classification using scikit-learn's decision tree classifier (using the default parameters) and the naive Bayes (Gaussian) classifier. As above, generate the confusion matrix, classification report, and average accuracy score for each classifier. For each model, compare the average accuracry scores on the test and the training data sets. What does the comparison tell you in terms of bias-variance trade-off?"
   ]
  },
  {
   "cell_type": "code",
   "execution_count": 27,
   "metadata": {
    "collapsed": true
   },
   "outputs": [],
   "source": [
    "treeclf = tree.DecisionTreeClassifier(criterion='entropy', min_samples_split=3)\n",
    "treeclf = treeclf.fit(bank_train, bank_target_train)\n",
    "treepreds_test = treeclf.predict(bank_test)"
   ]
  },
  {
   "cell_type": "code",
   "execution_count": 28,
   "metadata": {
    "collapsed": false
   },
   "outputs": [
    {
     "name": "stdout",
     "output_type": "stream",
     "text": [
      "The Accuracy using Decision Tree on Testing Set is 80.00 Percent\n"
     ]
    }
   ],
   "source": [
    "print 'The Accuracy using Decision Tree on Testing Set is %0.2f Percent' % (treeclf.score(bank_test, bank_target_test)*100)"
   ]
  },
  {
   "cell_type": "code",
   "execution_count": 29,
   "metadata": {
    "collapsed": false
   },
   "outputs": [
    {
     "name": "stdout",
     "output_type": "stream",
     "text": [
      "The Accuracy using Decision Tree on the Training Set is 98.96 Percent\n"
     ]
    }
   ],
   "source": [
    "print 'The Accuracy using Decision Tree on the Training Set is %0.2f Percent' %(treeclf.score(bank_train, bank_target_train)*100)"
   ]
  },
  {
   "cell_type": "code",
   "execution_count": 30,
   "metadata": {
    "collapsed": false
   },
   "outputs": [
    {
     "name": "stdout",
     "output_type": "stream",
     "text": [
      "             precision    recall  f1-score   support\n",
      "\n",
      "         NO       0.84      0.84      0.84        75\n",
      "        YES       0.73      0.73      0.73        45\n",
      "\n",
      "avg / total       0.80      0.80      0.80       120\n",
      "\n"
     ]
    }
   ],
   "source": [
    "print(classification_report(bank_target_test, treepreds_test))"
   ]
  },
  {
   "cell_type": "code",
   "execution_count": 31,
   "metadata": {
    "collapsed": false
   },
   "outputs": [
    {
     "name": "stdout",
     "output_type": "stream",
     "text": [
      "[[63 12]\n",
      " [12 33]]\n"
     ]
    }
   ],
   "source": [
    "treecm = confusion_matrix(bank_target_test, treepreds_test)\n",
    "print treecm"
   ]
  },
  {
   "cell_type": "code",
   "execution_count": 32,
   "metadata": {
    "collapsed": false
   },
   "outputs": [
    {
     "data": {
      "image/png": "[encoded data removed]",
      "text/plain": [
       "<matplotlib.figure.Figure at 0xa280a20>"
      ]
     },
     "metadata": {},
     "output_type": "display_data"
    }
   ],
   "source": [
    "import pylab as plt\n",
    "%matplotlib inline\n",
    "plt.matshow(treecm)\n",
    "plt.title('Confusion matrix')\n",
    "plt.colorbar()\n",
    "plt.ylabel('Actual')\n",
    "plt.xlabel('Predicted')\n",
    "plt.show()"
   ]
  },
  {
   "cell_type": "markdown",
   "metadata": {},
   "source": [
    "## Using Naive Bayes Classifier"
   ]
  },
  {
   "cell_type": "code",
   "execution_count": 36,
   "metadata": {
    "collapsed": false
   },
   "outputs": [],
   "source": [
    "nbclf = naive_bayes.GaussianNB()\n",
    "nbclf = nbclf.fit(bank_train, bank_target_train)\n",
    "nbpreds_test = nbclf.predict(bank_test)"
   ]
  },
  {
   "cell_type": "code",
   "execution_count": 39,
   "metadata": {
    "collapsed": false
   },
   "outputs": [
    {
     "name": "stdout",
     "output_type": "stream",
     "text": [
      "The Accuracy score on the Testing set using Naive Bayes is 73.33 Percent\n"
     ]
    }
   ],
   "source": [
    "print 'The Accuracy score on the Testing set using Naive Bayes is %0.2f Percent' % (nbclf.score(bank_test, bank_target_test)*100)"
   ]
  },
  {
   "cell_type": "code",
   "execution_count": 40,
   "metadata": {
    "collapsed": false
   },
   "outputs": [
    {
     "name": "stdout",
     "output_type": "stream",
     "text": [
      "The Accuracy score on the Training set using Naive Bayes is 63.75 Percent\n"
     ]
    }
   ],
   "source": [
    "print 'The Accuracy score on the Training set using Naive Bayes is %0.2f Percent' % (nbclf.score(bank_train, bank_target_train)*100)"
   ]
  },
  {
   "cell_type": "code",
   "execution_count": 41,
   "metadata": {
    "collapsed": false
   },
   "outputs": [
    {
     "name": "stdout",
     "output_type": "stream",
     "text": [
      "             precision    recall  f1-score   support\n",
      "\n",
      "         NO       0.77      0.81      0.79        75\n",
      "        YES       0.66      0.60      0.63        45\n",
      "\n",
      "avg / total       0.73      0.73      0.73       120\n",
      "\n"
     ]
    }
   ],
   "source": [
    "cr_nb = classification_report(bank_target_test,nbpreds_test)\n",
    "print cr_nb"
   ]
  },
  {
   "cell_type": "code",
   "execution_count": 42,
   "metadata": {
    "collapsed": false
   },
   "outputs": [
    {
     "name": "stdout",
     "output_type": "stream",
     "text": [
      "[[61 14]\n",
      " [18 27]]\n"
     ]
    }
   ],
   "source": [
    "nbcm = confusion_matrix(bank_target_test, nbpreds_test)\n",
    "print nbcm"
   ]
  },
  {
   "cell_type": "code",
   "execution_count": 43,
   "metadata": {
    "collapsed": false,
    "scrolled": true
   },
   "outputs": [
    {
     "data": {
      "image/png": "[encoded data removed]",
      "text/plain": [
       "<matplotlib.figure.Figure at 0xa5c4240>"
      ]
     },
     "metadata": {},
     "output_type": "display_data"
    }
   ],
   "source": [
    "import pylab as plt\n",
    "%matplotlib inline\n",
    "plt.matshow(nbcm)\n",
    "plt.title('Confusion matrix')\n",
    "plt.colorbar()\n",
    "plt.ylabel('Actual')\n",
    "plt.xlabel('Predicted')\n",
    "plt.show()"
   ]
  },
  {
   "cell_type": "markdown",
   "metadata": {},
   "source": [
    "- Based on the accuracy score using KNN Classifier, we can see that the accuracy score for both training and testing are very far from one another, which indicates High Variance and Low Bias or in other words the model is overfitting.\n",
    "\n",
    "- Based on the accuracy score using Decision Tree Classifier, we can see that the accuracy score for both training and testing are very far from one another, which indicates High Variance and Low Bias or in other words the model is overfitting.\n",
    "\n",
    "- Based on the accuracy score using Naive Bayes, we can see that the accuracy score for training set is less than the testing set, which indicates Low Variance and High Bias hence there is underfitting in the data "
   ]
  },
  {
   "cell_type": "markdown",
   "metadata": {
    "collapsed": true
   },
   "source": [
    "## Part d\n",
    "\n",
    "Based on the results that we have got using different classifier, we can see that the Decision Tree performs better on the testing set, eventhough the model seems to overfit the training set. \n",
    "\n",
    "In addition, linear methods Naive Bayes have high bias for nonlinear problems because they can only\n",
    "model one type of class boundary (a linear hyperplane) and low variance because most randomly drawn\n",
    "training sets produce similar decision hyperplanes; however, nonlinear methods like kNN have low bias\n",
    "and high variance. High-variance learning methods are prone to over-fitting the train data. Since learning\n",
    "error includes both bias and variance, we know there is not a learning method that is optimal among all\n",
    "text classification problems because there is always a tradeoff between bias and variance."
   ]
  }
 ],
 "metadata": {
  "kernelspec": {
   "display_name": "Python 2",
   "language": "python",
   "name": "python2"
  },
  "language_info": {
   "codemirror_mode": {
    "name": "ipython",
    "version": 2
   },
   "file_extension": ".py",
   "mimetype": "text/x-python",
   "name": "python",
   "nbconvert_exporter": "python",
   "pygments_lexer": "ipython2",
   "version": "2.7.11"
  }
 },
 "nbformat": 4,
 "nbformat_minor": 0
}
