{
 "cells": [
  {
   "cell_type": "code",
   "execution_count": 1,
   "metadata": {
    "collapsed": true
   },
   "outputs": [],
   "source": [
    "from numpy import genfromtxt\n",
    "import numpy as np\n",
    "import pandas as pd\n",
    "import os\n",
    "import operator\n",
    "from sklearn.feature_extraction import DictVectorizer\n",
    "from sklearn import neighbors, tree, naive_bayes\n",
    "from sklearn import preprocessing\n",
    "from sklearn.preprocessing import MinMaxScaler\n",
    "from sklearn.cross_validation import train_test_split\n",
    "from sklearn.metrics import classification_report\n",
    "from sklearn.metrics import confusion_matrix\n",
    "import matplotlib.pyplot as plt\n",
    "%matplotlib inline"
   ]
  },
  {
   "cell_type": "code",
   "execution_count": 2,
   "metadata": {
    "collapsed": true
   },
   "outputs": [],
   "source": [
    "os.chdir(\"E:/OneDrive/MSPA/CSC 478/Assignment/Assignment 2/newsgroups\")"
   ]
  },
  {
   "cell_type": "code",
   "execution_count": 3,
   "metadata": {
    "collapsed": false
   },
   "outputs": [],
   "source": [
    "test_lab = np.genfromtxt('testClasses.txt', delimiter = '\\t', dtype=int)[:,1]\n",
    "df_test = np.genfromtxt('testMatrixModified.txt', delimiter = '\\t').T\n",
    "train_lab = np.genfromtxt('trainClasses.txt', delimiter = '\\t', dtype=int)[:,1]\n",
    "df_train = np.genfromtxt('trainMatrixModified.txt', delimiter = '\\t').T"
   ]
  },
  {
   "cell_type": "markdown",
   "metadata": {},
   "source": [
    "## Part a - KNN Classifier Function"
   ]
  },
  {
   "cell_type": "code",
   "execution_count": 4,
   "metadata": {
    "collapsed": false
   },
   "outputs": [],
   "source": [
    "def knn_classifier(instance, train_data, train_label, k, metrics):\n",
    "    if metrics == 'Euclidean':\n",
    "        dataSetSize = train_data.shape[0]\n",
    "        diffMat = np.tile(instance, (dataSetSize,1)) - train_data\n",
    "        distance = (((diffMat**2).sum(axis = 1))**0.5)\n",
    "    \n",
    "    elif metrics == 'Cosine':\n",
    "        train_norm = np.array([np.linalg.norm(train_data[i]) for i in range(len(train_data))])\n",
    "        inst_norm = np.linalg.norm(instance)\n",
    "        cos_sim = (np.dot(train_data,instance))/(train_norm * inst_norm)\n",
    "        distance = 1 - cos_sim\n",
    "    \n",
    "    sorted_dist_ind = distance.argsort()\n",
    "    count_class = {}\n",
    "    \n",
    "    for j in range(k):\n",
    "        voteILabel = train_label[sorted_dist_ind[j]]\n",
    "        count_class[voteILabel] = count_class.get(voteILabel,0) +1\n",
    "    sort_count_class = sorted(count_class.iteritems(), key=operator.itemgetter(1), reverse=True)\n",
    "    return sort_count_class[0][0], sorted_dist_ind[:k]"
   ]
  },
  {
   "cell_type": "markdown",
   "metadata": {},
   "source": [
    "## Part b - Classification Accuracy Function"
   ]
  },
  {
   "cell_type": "code",
   "execution_count": 5,
   "metadata": {
    "collapsed": false
   },
   "outputs": [],
   "source": [
    "def class_accuracy(test_data, train_data, train_label, k, metrics, test_label):\n",
    "    Accuracy = 0.0\n",
    "    len_test = len(test_label)\n",
    "    m = [] \n",
    "    for i in range(len_test):\n",
    "        classifierResult, index = knn_classifier(test_data[i,:], train_data, train_label, k, metrics)\n",
    "        if (classifierResult == test_label[i]): Accuracy += 1.0\n",
    "    Accuracy =((Accuracy/float(len_test))*100)\n",
    "    return Accuracy"
   ]
  },
  {
   "cell_type": "markdown",
   "metadata": {},
   "source": [
    "## Comparison of KNN Classifier"
   ]
  },
  {
   "cell_type": "code",
   "execution_count": 6,
   "metadata": {
    "collapsed": false
   },
   "outputs": [
    {
     "data": {
      "text/html": [
       "<div>\n",
       "<table border=\"1\" class=\"dataframe\">\n",
       "  <thead>\n",
       "    <tr style=\"text-align: right;\">\n",
       "      <th></th>\n",
       "      <th>Euclidean</th>\n",
       "      <th>Cosine</th>\n",
       "    </tr>\n",
       "  </thead>\n",
       "  <tbody>\n",
       "    <tr>\n",
       "      <th>2</th>\n",
       "      <td>78.5</td>\n",
       "      <td>96.0</td>\n",
       "    </tr>\n",
       "    <tr>\n",
       "      <th>4</th>\n",
       "      <td>77.0</td>\n",
       "      <td>96.5</td>\n",
       "    </tr>\n",
       "    <tr>\n",
       "      <th>6</th>\n",
       "      <td>74.5</td>\n",
       "      <td>98.0</td>\n",
       "    </tr>\n",
       "    <tr>\n",
       "      <th>8</th>\n",
       "      <td>73.0</td>\n",
       "      <td>97.0</td>\n",
       "    </tr>\n",
       "    <tr>\n",
       "      <th>10</th>\n",
       "      <td>70.5</td>\n",
       "      <td>97.5</td>\n",
       "    </tr>\n",
       "    <tr>\n",
       "      <th>12</th>\n",
       "      <td>72.5</td>\n",
       "      <td>97.0</td>\n",
       "    </tr>\n",
       "    <tr>\n",
       "      <th>14</th>\n",
       "      <td>74.0</td>\n",
       "      <td>97.0</td>\n",
       "    </tr>\n",
       "    <tr>\n",
       "      <th>16</th>\n",
       "      <td>73.0</td>\n",
       "      <td>97.5</td>\n",
       "    </tr>\n",
       "    <tr>\n",
       "      <th>18</th>\n",
       "      <td>72.5</td>\n",
       "      <td>97.5</td>\n",
       "    </tr>\n",
       "    <tr>\n",
       "      <th>20</th>\n",
       "      <td>71.0</td>\n",
       "      <td>97.5</td>\n",
       "    </tr>\n",
       "  </tbody>\n",
       "</table>\n",
       "</div>"
      ],
      "text/plain": [
       "    Euclidean  Cosine\n",
       "2        78.5    96.0\n",
       "4        77.0    96.5\n",
       "6        74.5    98.0\n",
       "8        73.0    97.0\n",
       "10       70.5    97.5\n",
       "12       72.5    97.0\n",
       "14       74.0    97.0\n",
       "16       73.0    97.5\n",
       "18       72.5    97.5\n",
       "20       71.0    97.5"
      ]
     },
     "execution_count": 6,
     "metadata": {},
     "output_type": "execute_result"
    }
   ],
   "source": [
    "from collections import defaultdict\n",
    "compl_dict = defaultdict(list)\n",
    "\n",
    "metrics_list = ['Euclidean', 'Cosine']\n",
    "K_list = [2,4,6,8,10,12,14,16,18,20]\n",
    "sample_dict ={}\n",
    "Euc_dict = {}\n",
    "Cos_dict = {}\n",
    "for metric in metrics_list:\n",
    "    for K in K_list:\n",
    "        #acc = class_accuracy(df_test_norm, df_train_norm, df_train_lab, K, metric, df_test_lab)\n",
    "        acc = class_accuracy(df_test, df_train, train_lab, K, metric, test_lab)\n",
    "        #sample_dict[metric,K] = sample_dict.get(metric,acc)\n",
    "        if metric == 'Euclidean':\n",
    "            Euc_dict[K] = Euc_dict.get(K, acc)\n",
    "        else:\n",
    "            Cos_dict[K] = Cos_dict.get(K, acc)\n",
    "\n",
    "for d in (Euc_dict, Cos_dict): # you can list as many input dicts as you want here\n",
    "    for key, value in d.iteritems():\n",
    "        compl_dict[key].append(value)\n",
    "        \n",
    "df_complete = pd.DataFrame(compl_dict.values(), index = compl_dict.keys(), columns = ['Euclidean', 'Cosine'])\n",
    "df_complete"
   ]
  },
  {
   "cell_type": "code",
   "execution_count": 7,
   "metadata": {
    "collapsed": false
   },
   "outputs": [
    {
     "data": {
      "image/png": "[encoded data removed]",
      "text/plain": [
       "<matplotlib.figure.Figure at 0x9cf8198>"
      ]
     },
     "metadata": {},
     "output_type": "display_data"
    }
   ],
   "source": [
    "plt.plot(df_complete['Euclidean'], color=\"red\")\n",
    "plt.plot(df_complete['Cosine'], color=\"blue\")\n",
    "plt.xlabel('Value of K')\n",
    "plt.ylabel('Accuracy Rate')\n",
    "plt.title('Accuracy Comparison')\n",
    "plt.ylim([0,100])\n",
    "plt.xlim([0,20])\n",
    "plt.xticks(range(0,22,2))\n",
    "plt.legend(['Euclidean', 'Cosine'])\n",
    "plt.legend(bbox_to_anchor=(1.05, 1), loc=2, borderaxespad=0.)\n",
    "plt.grid()"
   ]
  },
  {
   "cell_type": "markdown",
   "metadata": {},
   "source": [
    "## Part D - TDIDF"
   ]
  },
  {
   "cell_type": "code",
   "execution_count": 8,
   "metadata": {
    "collapsed": true
   },
   "outputs": [],
   "source": [
    "TD_train = df_train.T\n",
    "TD_test = df_test.T\n",
    "DT_train = df_train\n",
    "DT_test = df_test"
   ]
  },
  {
   "cell_type": "code",
   "execution_count": 9,
   "metadata": {
    "collapsed": false
   },
   "outputs": [],
   "source": [
    "numTerms_train  = DT_train.shape[1]\n",
    "NDocs_train = DT_train.shape[0]\n",
    "\n",
    "numTerms_test  = DT_test.shape[1]\n",
    "NDocs_test = DT_test.shape[0]\n",
    "\n",
    "termFreqs_train = TD_train.sum(axis = 1)\n",
    "termFreqs_test = TD_test.sum(axis = 1)"
   ]
  },
  {
   "cell_type": "code",
   "execution_count": 10,
   "metadata": {
    "collapsed": false
   },
   "outputs": [],
   "source": [
    "dictTF_train = {}\n",
    "for i in range(len(termFreqs_train)):\n",
    "    dictTF_train[i] = termFreqs_train[i]\n",
    "sortedTF_train = sorted(dictTF_train.values(), reverse = True)\n",
    "\n",
    "dictTF_test = {}\n",
    "for i in range(len(termFreqs_test)):\n",
    "    dictTF_test[i] = termFreqs_test[i]\n",
    "sortedTF_test = sorted(dictTF_test.values(), reverse = True)"
   ]
  },
  {
   "cell_type": "code",
   "execution_count": 11,
   "metadata": {
    "collapsed": false
   },
   "outputs": [
    {
     "data": {
      "image/png": "[encoded data removed]",
      "text/plain": [
       "<matplotlib.figure.Figure at 0x16b59668>"
      ]
     },
     "metadata": {},
     "output_type": "display_data"
    },
    {
     "data": {
      "image/png": "[encoded data removed]",
      "text/plain": [
       "<matplotlib.figure.Figure at 0x1ae85240>"
      ]
     },
     "metadata": {},
     "output_type": "display_data"
    }
   ],
   "source": [
    "plt.plot(sortedTF_train)\n",
    "plt.grid()\n",
    "plt.xlabel('Terms')\n",
    "plt.ylabel('Frequency of Terms')\n",
    "plt.title('Term Frequeny for Training Data')\n",
    "plt.show()\n",
    "\n",
    "plt.plot(sortedTF_test)\n",
    "plt.grid()\n",
    "plt.xlabel('Terms')\n",
    "plt.ylabel('Frequency of Terms')\n",
    "plt.title('Term Frequeny for Testing Data')\n",
    "plt.show()"
   ]
  },
  {
   "cell_type": "code",
   "execution_count": 12,
   "metadata": {
    "collapsed": false
   },
   "outputs": [],
   "source": [
    "DF_train =np.array([(TD_train!=0).sum(1)]).T\n",
    "DF_test =np.array([(TD_test!=0).sum(1)]).T\n",
    "\n",
    "NMatrix_train = np.ones(np.shape(TD_train), dtype = float) * NDocs_train\n",
    "np.set_printoptions(precision=2, suppress=True,linewidth=120)\n",
    "\n",
    "NMatrix_test = np.ones(np.shape(TD_test), dtype = float) * NDocs_test\n",
    "np.set_printoptions(precision=2, suppress=True,linewidth=120)"
   ]
  },
  {
   "cell_type": "code",
   "execution_count": 13,
   "metadata": {
    "collapsed": false
   },
   "outputs": [],
   "source": [
    "IDF_train = np.log2(np.divide(NMatrix_train,DF_train))\n",
    "IDF_test = np.log2(np.divide(NMatrix_test,DF_test))\n",
    "\n",
    "TDIDF_train = (TD_train *IDF_train).T\n",
    "TDIDF_test = (TD_test * IDF_test).T\n",
    "TDIDF_test = np.nan_to_num(TDIDF_test)"
   ]
  },
  {
   "cell_type": "markdown",
   "metadata": {},
   "source": [
    "### Part d (Contd) - Comparison of Results "
   ]
  },
  {
   "cell_type": "code",
   "execution_count": 15,
   "metadata": {
    "collapsed": false
   },
   "outputs": [
    {
     "data": {
      "text/html": [
       "<div>\n",
       "<table border=\"1\" class=\"dataframe\">\n",
       "  <thead>\n",
       "    <tr style=\"text-align: right;\">\n",
       "      <th></th>\n",
       "      <th>Euclidean</th>\n",
       "      <th>Cosine</th>\n",
       "      <th>Euclidean with TDIDF</th>\n",
       "      <th>Cosine with TDIDF</th>\n",
       "    </tr>\n",
       "  </thead>\n",
       "  <tbody>\n",
       "    <tr>\n",
       "      <th>2</th>\n",
       "      <td>78.5</td>\n",
       "      <td>96.0</td>\n",
       "      <td>73.0</td>\n",
       "      <td>96.0</td>\n",
       "    </tr>\n",
       "    <tr>\n",
       "      <th>4</th>\n",
       "      <td>77.0</td>\n",
       "      <td>96.5</td>\n",
       "      <td>77.5</td>\n",
       "      <td>97.5</td>\n",
       "    </tr>\n",
       "    <tr>\n",
       "      <th>6</th>\n",
       "      <td>74.5</td>\n",
       "      <td>98.0</td>\n",
       "      <td>69.5</td>\n",
       "      <td>97.5</td>\n",
       "    </tr>\n",
       "    <tr>\n",
       "      <th>8</th>\n",
       "      <td>73.0</td>\n",
       "      <td>97.0</td>\n",
       "      <td>65.0</td>\n",
       "      <td>99.0</td>\n",
       "    </tr>\n",
       "    <tr>\n",
       "      <th>10</th>\n",
       "      <td>70.5</td>\n",
       "      <td>97.5</td>\n",
       "      <td>61.0</td>\n",
       "      <td>99.5</td>\n",
       "    </tr>\n",
       "    <tr>\n",
       "      <th>12</th>\n",
       "      <td>72.5</td>\n",
       "      <td>97.0</td>\n",
       "      <td>63.0</td>\n",
       "      <td>99.5</td>\n",
       "    </tr>\n",
       "    <tr>\n",
       "      <th>14</th>\n",
       "      <td>74.0</td>\n",
       "      <td>97.0</td>\n",
       "      <td>61.0</td>\n",
       "      <td>99.5</td>\n",
       "    </tr>\n",
       "    <tr>\n",
       "      <th>16</th>\n",
       "      <td>73.0</td>\n",
       "      <td>97.5</td>\n",
       "      <td>58.0</td>\n",
       "      <td>99.5</td>\n",
       "    </tr>\n",
       "    <tr>\n",
       "      <th>18</th>\n",
       "      <td>72.5</td>\n",
       "      <td>97.5</td>\n",
       "      <td>58.0</td>\n",
       "      <td>99.0</td>\n",
       "    </tr>\n",
       "    <tr>\n",
       "      <th>20</th>\n",
       "      <td>71.0</td>\n",
       "      <td>97.5</td>\n",
       "      <td>58.5</td>\n",
       "      <td>99.0</td>\n",
       "    </tr>\n",
       "  </tbody>\n",
       "</table>\n",
       "</div>"
      ],
      "text/plain": [
       "    Euclidean  Cosine  Euclidean with TDIDF  Cosine with TDIDF\n",
       "2        78.5    96.0                  73.0               96.0\n",
       "4        77.0    96.5                  77.5               97.5\n",
       "6        74.5    98.0                  69.5               97.5\n",
       "8        73.0    97.0                  65.0               99.0\n",
       "10       70.5    97.5                  61.0               99.5\n",
       "12       72.5    97.0                  63.0               99.5\n",
       "14       74.0    97.0                  61.0               99.5\n",
       "16       73.0    97.5                  58.0               99.5\n",
       "18       72.5    97.5                  58.0               99.0\n",
       "20       71.0    97.5                  58.5               99.0"
      ]
     },
     "execution_count": 15,
     "metadata": {},
     "output_type": "execute_result"
    }
   ],
   "source": [
    "metrics_list = ['Euclidean', 'Cosine']\n",
    "K_list = [2,4,6,8,10,12,14,16,18,20]\n",
    "\n",
    "TD_Euc_dict = {}\n",
    "TD_Cos_dict = {}\n",
    "for metric in metrics_list:\n",
    "    for K in K_list:\n",
    "        acc = class_accuracy(TDIDF_test, TDIDF_train, train_lab, K, metric, test_lab)\n",
    "        #sample_dict[metric,K] = sample_dict.get(metric,acc)\n",
    "        if metric == 'Euclidean':\n",
    "            TD_Euc_dict[K] = TD_Euc_dict.get(K, acc)\n",
    "        else:\n",
    "            TD_Cos_dict[K] = TD_Cos_dict.get(K, acc)\n",
    "\n",
    "from collections import defaultdict\n",
    "compl_dict = defaultdict(list)\n",
    "\n",
    "for d in (Euc_dict, Cos_dict, TD_Euc_dict, TD_Cos_dict): # you can list as many input dicts as you want here\n",
    "    for key, value in d.iteritems():\n",
    "        compl_dict[key].append(value)\n",
    "        \n",
    "df_both = pd.DataFrame(compl_dict.values(), index = compl_dict.keys(), columns = ['Euclidean', 'Cosine', \n",
    "                                                                                  'Euclidean with TDIDF', \n",
    "                                                                                      'Cosine with TDIDF'])\n",
    "df_both            "
   ]
  },
  {
   "cell_type": "code",
   "execution_count": 16,
   "metadata": {
    "collapsed": false
   },
   "outputs": [
    {
     "data": {
      "image/png": "[encoded data removed]",
      "text/plain": [
       "<matplotlib.figure.Figure at 0x18483dd8>"
      ]
     },
     "metadata": {},
     "output_type": "display_data"
    }
   ],
   "source": [
    "plt.plot(df_both['Euclidean'], color=\"red\", ls = '--')\n",
    "plt.plot(df_both['Cosine'], color=\"blue\")\n",
    "plt.plot(df_both['Euclidean with TDIDF'], color=\"green\", ls = '--')\n",
    "plt.plot(df_both['Cosine with TDIDF'], color=\"purple\")\n",
    "\n",
    "plt.xlabel('Value of K')\n",
    "plt.ylabel('Error Rate')\n",
    "plt.title('Error Rate Comparison')\n",
    "plt.ylim([0,105])\n",
    "plt.xlim([0,20])\n",
    "plt.xticks(range(0,22,2))\n",
    "plt.legend(['Euclidean', 'Cosine', 'Euclidean with TDIDF', 'Cosine with TDIDF'])\n",
    "plt.legend(bbox_to_anchor=(1.05, 1), loc=2, borderaxespad=0.)\n",
    "plt.grid()"
   ]
  },
  {
   "cell_type": "markdown",
   "metadata": {},
   "source": [
    "##  Part e - Rocchio Classifier\n"
   ]
  },
  {
   "cell_type": "code",
   "execution_count": 18,
   "metadata": {
    "collapsed": false
   },
   "outputs": [],
   "source": [
    "def roc_classifier(inX, train_data,train_label):\n",
    "     \n",
    "    data_label = np.column_stack((train_data,train_label.T))\n",
    "    \n",
    "    # Prototype for each of the two classes\n",
    "    prototype_one = np.array(np.zeros(train_data.shape[1]+1))\n",
    "    prototype_zero = np.array(np.zeros(train_data.shape[1]+1))    \n",
    "    \n",
    "    for i in data_label:\n",
    "        if i[-1] == 1:\n",
    "            prototype_one += i\n",
    "        else:\n",
    "            prototype_zero += i\n",
    "            \n",
    "    # Computing the cosine similarity \n",
    "    \n",
    "    #Computing Distance based on Cosine Similarity for the Class 0 protoype    \n",
    "    cos_zero = (np.dot(prototype_zero[:len(prototype_zero)-1],inX))/(np.linalg.norm(prototype_zero) * np.linalg.norm(inX))\n",
    "    distance_zero = 1 - cos_zero\n",
    "    #Computing Distance based on Cosine Similarity for the Class 1 protoype\n",
    "    cos_one = (np.dot(prototype_one[:len(prototype_one)-1],inX))/(np.linalg.norm(prototype_one) * np.linalg.norm(inX))\n",
    "    distance_one = 1 - cos_one\n",
    "    if distance_zero < distance_one:\n",
    "        return 0\n",
    "    else:\n",
    "        return 1"
   ]
  },
  {
   "cell_type": "code",
   "execution_count": 19,
   "metadata": {
    "collapsed": true
   },
   "outputs": [],
   "source": [
    "def roc_accuracy(test_data, train_data, train_label, test_label):\n",
    "    Accuracy = 0.0\n",
    "    len_test = len(test_label)\n",
    "    m = [] \n",
    "    for i in range(len_test):\n",
    "        classifierResult = roc_classifier(test_data[i,:], train_data, train_label)\n",
    "        if (classifierResult == test_label[i]): Accuracy += 1.0\n",
    "    Acc_rate =((Accuracy/float(len_test))*100)\n",
    "    return Acc_rate"
   ]
  },
  {
   "cell_type": "code",
   "execution_count": 20,
   "metadata": {
    "collapsed": false
   },
   "outputs": [
    {
     "name": "stdout",
     "output_type": "stream",
     "text": [
      "The Accuracy Rate for Rocchio Classifier is 98.0\n"
     ]
    }
   ],
   "source": [
    "print 'The Accuracy Rate for Rocchio Classifier is' , roc_accuracy(TDIDF_test, TDIDF_train, train_lab, test_lab)"
   ]
  },
  {
   "cell_type": "markdown",
   "metadata": {},
   "source": [
    "## Conclusion\n",
    "\n",
    "- Running the KNN with raw data, we can see that there is a huge difference between the accuracy computed by different Distance measures of Cosine Similarity and Euclidean distance had a significant difference,The Cosine Similarity increased with the increase in the number of neighbors & the accuracy of Euclidean distance decreased with the increase in the number of neighbors.\n",
    "\n",
    "- Using the TDxIDF, the Second KNN classifier also had similar differences as the first one. The accuracy using Cosine Similarity Distance Measure was really high and at times reached 99.5% as well, whereas the accuracy using Euclidean distance decreased.\n",
    "\n",
    "- Using the Rocchio Method for KNN classification gave the Accuracy of 98% , which is significantly high and uses less amount of resources."
   ]
  }
 ],
 "metadata": {
  "kernelspec": {
   "display_name": "Python 2",
   "language": "python",
   "name": "python2"
  },
  "language_info": {
   "codemirror_mode": {
    "name": "ipython",
    "version": 2
   },
   "file_extension": ".py",
   "mimetype": "text/x-python",
   "name": "python",
   "nbconvert_exporter": "python",
   "pygments_lexer": "ipython2",
   "version": "2.7.11"
  }
 },
 "nbformat": 4,
 "nbformat_minor": 0
}
