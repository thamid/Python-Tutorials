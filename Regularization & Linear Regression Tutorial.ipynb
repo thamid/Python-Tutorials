{
 "cells": [
  {
   "cell_type": "markdown",
   "metadata": {},
   "source": [
    "# Assignment 3\n",
    "## Part 1\n"
   ]
  },
  {
   "cell_type": "markdown",
   "metadata": {},
   "source": [
    "For this problem you will experiment with linear regression models to make predictions with numerical data. You will also explore mosre systematic methods for feature selection and for optimizing model parameters (model selection). The data set you will use is a subset of the \"Communities and Crime\" data set that combines information from the 1990 census data as well as FBI crime data from 1995. Please read the full description of the data, including the description and statistics on different variables. The target attribute for regression purposes is \"ViolentCrimesPerPop\". The two identifier attributes \"state\" and \"community name\" should be excluded for the regression task.\n",
    "\n",
    "Your tasks in this problem are the following [Note: for these tasks you will use the available linear-models from scikit-learn as well as the implementations of the relevant approaches from the Ch. 8 of MLA] ."
   ]
  },
  {
   "cell_type": "markdown",
   "metadata": {},
   "source": [
    "### Part a \n",
    "\n",
    "Load and preprocess the data using Pandas or Numpy and, if necessary, preprocessing functions from scikit-learn. The provided data is already normalized (see description), so there is no need for additional normalization. Compute and display basic statistics (mean, standard deviation, min, max, etc.) for each of the variables in the data set. Separate the target attribute for regression."
   ]
  },
  {
   "cell_type": "code",
   "execution_count": 2,
   "metadata": {
    "collapsed": true
   },
   "outputs": [],
   "source": [
    "import pandas as pd \n",
    "import numpy as np\n",
    "from sklearn.cross_validation import KFold\n",
    "from sklearn.linear_model import LinearRegression, Lasso, Ridge, ElasticNet, SGDRegressor\n",
    "import pylab as pl"
   ]
  },
  {
   "cell_type": "code",
   "execution_count": 30,
   "metadata": {
    "collapsed": true
   },
   "outputs": [],
   "source": [
    "df_crime = pd.read_csv('E:/OneDrive/MSPA/CSC 478/Assignment/Assignment 3/communities/communities.csv' , na_values=[\"?\"])"
   ]
  },
  {
   "cell_type": "code",
   "execution_count": 31,
   "metadata": {
    "collapsed": false
   },
   "outputs": [
    {
     "data": {
      "text/plain": [
       "(1994, 100)"
      ]
     },
     "execution_count": 31,
     "metadata": {},
     "output_type": "execute_result"
    }
   ],
   "source": [
    "df_crime.shape"
   ]
  },
  {
   "cell_type": "code",
   "execution_count": 32,
   "metadata": {
    "collapsed": false
   },
   "outputs": [
    {
     "data": {
      "text/plain": [
       "state                    0\n",
       "communityname            0\n",
       "population               0\n",
       "householdsize            0\n",
       "racepctblack             0\n",
       "racePctWhite             0\n",
       "racePctAsian             0\n",
       "racePctHisp              0\n",
       "agePct12t21              0\n",
       "agePct12t29              0\n",
       "agePct16t24              0\n",
       "agePct65up               0\n",
       "numbUrban                0\n",
       "pctUrban                 0\n",
       "medIncome                0\n",
       "pctWWage                 0\n",
       "pctWFarmSelf             0\n",
       "pctWInvInc               0\n",
       "pctWSocSec               0\n",
       "pctWPubAsst              0\n",
       "pctWRetire               0\n",
       "medFamInc                0\n",
       "perCapInc                0\n",
       "whitePerCap              0\n",
       "blackPerCap              0\n",
       "indianPerCap             0\n",
       "AsianPerCap              0\n",
       "OtherPerCap              1\n",
       "HispPerCap               0\n",
       "NumUnderPov              0\n",
       "                        ..\n",
       "MedNumBR                 0\n",
       "HousVacant               0\n",
       "PctHousOccup             0\n",
       "PctHousOwnOcc            0\n",
       "PctVacantBoarded         0\n",
       "PctVacMore6Mos           0\n",
       "MedYrHousBuilt           0\n",
       "PctHousNoPhone           0\n",
       "PctWOFullPlumb           0\n",
       "OwnOccLowQuart           0\n",
       "OwnOccMedVal             0\n",
       "OwnOccHiQuart            0\n",
       "RentLowQ                 0\n",
       "RentMedian               0\n",
       "RentHighQ                0\n",
       "MedRent                  0\n",
       "MedRentPctHousInc        0\n",
       "MedOwnCostPctInc         0\n",
       "MedOwnCostPctIncNoMtg    0\n",
       "NumInShelters            0\n",
       "NumStreet                0\n",
       "PctForeignBorn           0\n",
       "PctBornSameState         0\n",
       "PctSameHouse85           0\n",
       "PctSameCity85            0\n",
       "PctSameState85           0\n",
       "LandArea                 0\n",
       "PopDens                  0\n",
       "PctUsePubTrans           0\n",
       "ViolentCrimesPerPop      0\n",
       "dtype: int64"
      ]
     },
     "execution_count": 32,
     "metadata": {},
     "output_type": "execute_result"
    }
   ],
   "source": [
    "df_crime.isnull().sum()"
   ]
  },
  {
   "cell_type": "code",
   "execution_count": 33,
   "metadata": {
    "collapsed": false
   },
   "outputs": [
    {
     "data": {
      "text/html": [
       "<div>\n",
       "<table border=\"1\" class=\"dataframe\">\n",
       "  <thead>\n",
       "    <tr style=\"text-align: right;\">\n",
       "      <th></th>\n",
       "      <th>state</th>\n",
       "      <th>communityname</th>\n",
       "      <th>population</th>\n",
       "      <th>householdsize</th>\n",
       "      <th>racepctblack</th>\n",
       "      <th>racePctWhite</th>\n",
       "      <th>racePctAsian</th>\n",
       "      <th>racePctHisp</th>\n",
       "      <th>agePct12t21</th>\n",
       "      <th>agePct12t29</th>\n",
       "      <th>...</th>\n",
       "      <th>NumStreet</th>\n",
       "      <th>PctForeignBorn</th>\n",
       "      <th>PctBornSameState</th>\n",
       "      <th>PctSameHouse85</th>\n",
       "      <th>PctSameCity85</th>\n",
       "      <th>PctSameState85</th>\n",
       "      <th>LandArea</th>\n",
       "      <th>PopDens</th>\n",
       "      <th>PctUsePubTrans</th>\n",
       "      <th>ViolentCrimesPerPop</th>\n",
       "    </tr>\n",
       "  </thead>\n",
       "  <tbody>\n",
       "    <tr>\n",
       "      <th>130</th>\n",
       "      <td>28</td>\n",
       "      <td>Natchezcity</td>\n",
       "      <td>0.02</td>\n",
       "      <td>0.38</td>\n",
       "      <td>0.98</td>\n",
       "      <td>0.22</td>\n",
       "      <td>0.01</td>\n",
       "      <td>0.01</td>\n",
       "      <td>0.44</td>\n",
       "      <td>0.4</td>\n",
       "      <td>...</td>\n",
       "      <td>0.0</td>\n",
       "      <td>0.01</td>\n",
       "      <td>0.84</td>\n",
       "      <td>0.7</td>\n",
       "      <td>0.83</td>\n",
       "      <td>0.77</td>\n",
       "      <td>0.04</td>\n",
       "      <td>0.12</td>\n",
       "      <td>0.05</td>\n",
       "      <td>0.23</td>\n",
       "    </tr>\n",
       "  </tbody>\n",
       "</table>\n",
       "<p>1 rows × 100 columns</p>\n",
       "</div>"
      ],
      "text/plain": [
       "     state communityname  population  householdsize  racepctblack  \\\n",
       "130     28   Natchezcity        0.02           0.38          0.98   \n",
       "\n",
       "     racePctWhite  racePctAsian  racePctHisp  agePct12t21  agePct12t29  \\\n",
       "130          0.22          0.01         0.01         0.44          0.4   \n",
       "\n",
       "            ...           NumStreet  PctForeignBorn  PctBornSameState  \\\n",
       "130         ...                 0.0            0.01              0.84   \n",
       "\n",
       "     PctSameHouse85  PctSameCity85  PctSameState85  LandArea  PopDens  \\\n",
       "130             0.7           0.83            0.77      0.04     0.12   \n",
       "\n",
       "     PctUsePubTrans  ViolentCrimesPerPop  \n",
       "130            0.05                 0.23  \n",
       "\n",
       "[1 rows x 100 columns]"
      ]
     },
     "execution_count": 33,
     "metadata": {},
     "output_type": "execute_result"
    }
   ],
   "source": [
    "df_crime[df_crime.OtherPerCap.isnull()]"
   ]
  },
  {
   "cell_type": "code",
   "execution_count": 34,
   "metadata": {
    "collapsed": true
   },
   "outputs": [],
   "source": [
    "OPC_mean = df_crime.OtherPerCap.mean()\n",
    "df_crime.OtherPerCap.fillna(OPC_mean, axis = 0, inplace = True)"
   ]
  },
  {
   "cell_type": "code",
   "execution_count": 35,
   "metadata": {
    "collapsed": false
   },
   "outputs": [
    {
     "data": {
      "text/plain": [
       "state                    0\n",
       "communityname            0\n",
       "population               0\n",
       "householdsize            0\n",
       "racepctblack             0\n",
       "racePctWhite             0\n",
       "racePctAsian             0\n",
       "racePctHisp              0\n",
       "agePct12t21              0\n",
       "agePct12t29              0\n",
       "agePct16t24              0\n",
       "agePct65up               0\n",
       "numbUrban                0\n",
       "pctUrban                 0\n",
       "medIncome                0\n",
       "pctWWage                 0\n",
       "pctWFarmSelf             0\n",
       "pctWInvInc               0\n",
       "pctWSocSec               0\n",
       "pctWPubAsst              0\n",
       "pctWRetire               0\n",
       "medFamInc                0\n",
       "perCapInc                0\n",
       "whitePerCap              0\n",
       "blackPerCap              0\n",
       "indianPerCap             0\n",
       "AsianPerCap              0\n",
       "OtherPerCap              0\n",
       "HispPerCap               0\n",
       "NumUnderPov              0\n",
       "                        ..\n",
       "MedNumBR                 0\n",
       "HousVacant               0\n",
       "PctHousOccup             0\n",
       "PctHousOwnOcc            0\n",
       "PctVacantBoarded         0\n",
       "PctVacMore6Mos           0\n",
       "MedYrHousBuilt           0\n",
       "PctHousNoPhone           0\n",
       "PctWOFullPlumb           0\n",
       "OwnOccLowQuart           0\n",
       "OwnOccMedVal             0\n",
       "OwnOccHiQuart            0\n",
       "RentLowQ                 0\n",
       "RentMedian               0\n",
       "RentHighQ                0\n",
       "MedRent                  0\n",
       "MedRentPctHousInc        0\n",
       "MedOwnCostPctInc         0\n",
       "MedOwnCostPctIncNoMtg    0\n",
       "NumInShelters            0\n",
       "NumStreet                0\n",
       "PctForeignBorn           0\n",
       "PctBornSameState         0\n",
       "PctSameHouse85           0\n",
       "PctSameCity85            0\n",
       "PctSameState85           0\n",
       "LandArea                 0\n",
       "PopDens                  0\n",
       "PctUsePubTrans           0\n",
       "ViolentCrimesPerPop      0\n",
       "dtype: int64"
      ]
     },
     "execution_count": 35,
     "metadata": {},
     "output_type": "execute_result"
    }
   ],
   "source": [
    "df_crime.isnull().sum()"
   ]
  },
  {
   "cell_type": "code",
   "execution_count": 37,
   "metadata": {
    "collapsed": false
   },
   "outputs": [
    {
     "data": {
      "text/html": [
       "<div>\n",
       "<table border=\"1\" class=\"dataframe\">\n",
       "  <thead>\n",
       "    <tr style=\"text-align: right;\">\n",
       "      <th></th>\n",
       "      <th>count</th>\n",
       "      <th>mean</th>\n",
       "      <th>std</th>\n",
       "      <th>min</th>\n",
       "      <th>25%</th>\n",
       "      <th>50%</th>\n",
       "      <th>75%</th>\n",
       "      <th>max</th>\n",
       "    </tr>\n",
       "  </thead>\n",
       "  <tbody>\n",
       "    <tr>\n",
       "      <th>state</th>\n",
       "      <td>1994.0</td>\n",
       "      <td>28.683551</td>\n",
       "      <td>16.397553</td>\n",
       "      <td>1.0</td>\n",
       "      <td>12.0000</td>\n",
       "      <td>34.000</td>\n",
       "      <td>42.0000</td>\n",
       "      <td>56.0</td>\n",
       "    </tr>\n",
       "    <tr>\n",
       "      <th>population</th>\n",
       "      <td>1994.0</td>\n",
       "      <td>0.057593</td>\n",
       "      <td>0.126906</td>\n",
       "      <td>0.0</td>\n",
       "      <td>0.0100</td>\n",
       "      <td>0.020</td>\n",
       "      <td>0.0500</td>\n",
       "      <td>1.0</td>\n",
       "    </tr>\n",
       "    <tr>\n",
       "      <th>householdsize</th>\n",
       "      <td>1994.0</td>\n",
       "      <td>0.463395</td>\n",
       "      <td>0.163717</td>\n",
       "      <td>0.0</td>\n",
       "      <td>0.3500</td>\n",
       "      <td>0.440</td>\n",
       "      <td>0.5400</td>\n",
       "      <td>1.0</td>\n",
       "    </tr>\n",
       "    <tr>\n",
       "      <th>racepctblack</th>\n",
       "      <td>1994.0</td>\n",
       "      <td>0.179629</td>\n",
       "      <td>0.253442</td>\n",
       "      <td>0.0</td>\n",
       "      <td>0.0200</td>\n",
       "      <td>0.060</td>\n",
       "      <td>0.2300</td>\n",
       "      <td>1.0</td>\n",
       "    </tr>\n",
       "    <tr>\n",
       "      <th>racePctWhite</th>\n",
       "      <td>1994.0</td>\n",
       "      <td>0.753716</td>\n",
       "      <td>0.244039</td>\n",
       "      <td>0.0</td>\n",
       "      <td>0.6300</td>\n",
       "      <td>0.850</td>\n",
       "      <td>0.9400</td>\n",
       "      <td>1.0</td>\n",
       "    </tr>\n",
       "    <tr>\n",
       "      <th>racePctAsian</th>\n",
       "      <td>1994.0</td>\n",
       "      <td>0.153681</td>\n",
       "      <td>0.208877</td>\n",
       "      <td>0.0</td>\n",
       "      <td>0.0400</td>\n",
       "      <td>0.070</td>\n",
       "      <td>0.1700</td>\n",
       "      <td>1.0</td>\n",
       "    </tr>\n",
       "    <tr>\n",
       "      <th>racePctHisp</th>\n",
       "      <td>1994.0</td>\n",
       "      <td>0.144022</td>\n",
       "      <td>0.232492</td>\n",
       "      <td>0.0</td>\n",
       "      <td>0.0100</td>\n",
       "      <td>0.040</td>\n",
       "      <td>0.1600</td>\n",
       "      <td>1.0</td>\n",
       "    </tr>\n",
       "    <tr>\n",
       "      <th>agePct12t21</th>\n",
       "      <td>1994.0</td>\n",
       "      <td>0.424218</td>\n",
       "      <td>0.155196</td>\n",
       "      <td>0.0</td>\n",
       "      <td>0.3400</td>\n",
       "      <td>0.400</td>\n",
       "      <td>0.4700</td>\n",
       "      <td>1.0</td>\n",
       "    </tr>\n",
       "    <tr>\n",
       "      <th>agePct12t29</th>\n",
       "      <td>1994.0</td>\n",
       "      <td>0.493867</td>\n",
       "      <td>0.143564</td>\n",
       "      <td>0.0</td>\n",
       "      <td>0.4100</td>\n",
       "      <td>0.480</td>\n",
       "      <td>0.5400</td>\n",
       "      <td>1.0</td>\n",
       "    </tr>\n",
       "    <tr>\n",
       "      <th>agePct16t24</th>\n",
       "      <td>1994.0</td>\n",
       "      <td>0.336264</td>\n",
       "      <td>0.166505</td>\n",
       "      <td>0.0</td>\n",
       "      <td>0.2500</td>\n",
       "      <td>0.290</td>\n",
       "      <td>0.3600</td>\n",
       "      <td>1.0</td>\n",
       "    </tr>\n",
       "    <tr>\n",
       "      <th>agePct65up</th>\n",
       "      <td>1994.0</td>\n",
       "      <td>0.423164</td>\n",
       "      <td>0.179185</td>\n",
       "      <td>0.0</td>\n",
       "      <td>0.3000</td>\n",
       "      <td>0.420</td>\n",
       "      <td>0.5300</td>\n",
       "      <td>1.0</td>\n",
       "    </tr>\n",
       "    <tr>\n",
       "      <th>numbUrban</th>\n",
       "      <td>1994.0</td>\n",
       "      <td>0.064072</td>\n",
       "      <td>0.128256</td>\n",
       "      <td>0.0</td>\n",
       "      <td>0.0000</td>\n",
       "      <td>0.030</td>\n",
       "      <td>0.0700</td>\n",
       "      <td>1.0</td>\n",
       "    </tr>\n",
       "    <tr>\n",
       "      <th>pctUrban</th>\n",
       "      <td>1994.0</td>\n",
       "      <td>0.696269</td>\n",
       "      <td>0.444811</td>\n",
       "      <td>0.0</td>\n",
       "      <td>0.0000</td>\n",
       "      <td>1.000</td>\n",
       "      <td>1.0000</td>\n",
       "      <td>1.0</td>\n",
       "    </tr>\n",
       "    <tr>\n",
       "      <th>medIncome</th>\n",
       "      <td>1994.0</td>\n",
       "      <td>0.361123</td>\n",
       "      <td>0.209362</td>\n",
       "      <td>0.0</td>\n",
       "      <td>0.2000</td>\n",
       "      <td>0.320</td>\n",
       "      <td>0.4900</td>\n",
       "      <td>1.0</td>\n",
       "    </tr>\n",
       "    <tr>\n",
       "      <th>pctWWage</th>\n",
       "      <td>1994.0</td>\n",
       "      <td>0.558154</td>\n",
       "      <td>0.182913</td>\n",
       "      <td>0.0</td>\n",
       "      <td>0.4400</td>\n",
       "      <td>0.560</td>\n",
       "      <td>0.6900</td>\n",
       "      <td>1.0</td>\n",
       "    </tr>\n",
       "    <tr>\n",
       "      <th>pctWFarmSelf</th>\n",
       "      <td>1994.0</td>\n",
       "      <td>0.291570</td>\n",
       "      <td>0.204108</td>\n",
       "      <td>0.0</td>\n",
       "      <td>0.1600</td>\n",
       "      <td>0.230</td>\n",
       "      <td>0.3700</td>\n",
       "      <td>1.0</td>\n",
       "    </tr>\n",
       "    <tr>\n",
       "      <th>pctWInvInc</th>\n",
       "      <td>1994.0</td>\n",
       "      <td>0.495687</td>\n",
       "      <td>0.178071</td>\n",
       "      <td>0.0</td>\n",
       "      <td>0.3700</td>\n",
       "      <td>0.480</td>\n",
       "      <td>0.6200</td>\n",
       "      <td>1.0</td>\n",
       "    </tr>\n",
       "    <tr>\n",
       "      <th>pctWSocSec</th>\n",
       "      <td>1994.0</td>\n",
       "      <td>0.471133</td>\n",
       "      <td>0.173619</td>\n",
       "      <td>0.0</td>\n",
       "      <td>0.3500</td>\n",
       "      <td>0.475</td>\n",
       "      <td>0.5800</td>\n",
       "      <td>1.0</td>\n",
       "    </tr>\n",
       "    <tr>\n",
       "      <th>pctWPubAsst</th>\n",
       "      <td>1994.0</td>\n",
       "      <td>0.317778</td>\n",
       "      <td>0.222137</td>\n",
       "      <td>0.0</td>\n",
       "      <td>0.1425</td>\n",
       "      <td>0.260</td>\n",
       "      <td>0.4400</td>\n",
       "      <td>1.0</td>\n",
       "    </tr>\n",
       "    <tr>\n",
       "      <th>pctWRetire</th>\n",
       "      <td>1994.0</td>\n",
       "      <td>0.479248</td>\n",
       "      <td>0.167564</td>\n",
       "      <td>0.0</td>\n",
       "      <td>0.3600</td>\n",
       "      <td>0.470</td>\n",
       "      <td>0.5800</td>\n",
       "      <td>1.0</td>\n",
       "    </tr>\n",
       "    <tr>\n",
       "      <th>medFamInc</th>\n",
       "      <td>1994.0</td>\n",
       "      <td>0.375677</td>\n",
       "      <td>0.198257</td>\n",
       "      <td>0.0</td>\n",
       "      <td>0.2300</td>\n",
       "      <td>0.330</td>\n",
       "      <td>0.4800</td>\n",
       "      <td>1.0</td>\n",
       "    </tr>\n",
       "    <tr>\n",
       "      <th>perCapInc</th>\n",
       "      <td>1994.0</td>\n",
       "      <td>0.350251</td>\n",
       "      <td>0.191109</td>\n",
       "      <td>0.0</td>\n",
       "      <td>0.2200</td>\n",
       "      <td>0.300</td>\n",
       "      <td>0.4300</td>\n",
       "      <td>1.0</td>\n",
       "    </tr>\n",
       "    <tr>\n",
       "      <th>whitePerCap</th>\n",
       "      <td>1994.0</td>\n",
       "      <td>0.368049</td>\n",
       "      <td>0.186804</td>\n",
       "      <td>0.0</td>\n",
       "      <td>0.2400</td>\n",
       "      <td>0.320</td>\n",
       "      <td>0.4400</td>\n",
       "      <td>1.0</td>\n",
       "    </tr>\n",
       "    <tr>\n",
       "      <th>blackPerCap</th>\n",
       "      <td>1994.0</td>\n",
       "      <td>0.291098</td>\n",
       "      <td>0.171593</td>\n",
       "      <td>0.0</td>\n",
       "      <td>0.1725</td>\n",
       "      <td>0.250</td>\n",
       "      <td>0.3800</td>\n",
       "      <td>1.0</td>\n",
       "    </tr>\n",
       "    <tr>\n",
       "      <th>indianPerCap</th>\n",
       "      <td>1994.0</td>\n",
       "      <td>0.203506</td>\n",
       "      <td>0.164775</td>\n",
       "      <td>0.0</td>\n",
       "      <td>0.1100</td>\n",
       "      <td>0.170</td>\n",
       "      <td>0.2500</td>\n",
       "      <td>1.0</td>\n",
       "    </tr>\n",
       "    <tr>\n",
       "      <th>AsianPerCap</th>\n",
       "      <td>1994.0</td>\n",
       "      <td>0.322357</td>\n",
       "      <td>0.195411</td>\n",
       "      <td>0.0</td>\n",
       "      <td>0.1900</td>\n",
       "      <td>0.280</td>\n",
       "      <td>0.4000</td>\n",
       "      <td>1.0</td>\n",
       "    </tr>\n",
       "    <tr>\n",
       "      <th>OtherPerCap</th>\n",
       "      <td>1994.0</td>\n",
       "      <td>0.284742</td>\n",
       "      <td>0.190960</td>\n",
       "      <td>0.0</td>\n",
       "      <td>0.1700</td>\n",
       "      <td>0.250</td>\n",
       "      <td>0.3600</td>\n",
       "      <td>1.0</td>\n",
       "    </tr>\n",
       "    <tr>\n",
       "      <th>HispPerCap</th>\n",
       "      <td>1994.0</td>\n",
       "      <td>0.386279</td>\n",
       "      <td>0.183081</td>\n",
       "      <td>0.0</td>\n",
       "      <td>0.2600</td>\n",
       "      <td>0.345</td>\n",
       "      <td>0.4800</td>\n",
       "      <td>1.0</td>\n",
       "    </tr>\n",
       "    <tr>\n",
       "      <th>NumUnderPov</th>\n",
       "      <td>1994.0</td>\n",
       "      <td>0.055507</td>\n",
       "      <td>0.127941</td>\n",
       "      <td>0.0</td>\n",
       "      <td>0.0100</td>\n",
       "      <td>0.020</td>\n",
       "      <td>0.0500</td>\n",
       "      <td>1.0</td>\n",
       "    </tr>\n",
       "    <tr>\n",
       "      <th>PctPopUnderPov</th>\n",
       "      <td>1994.0</td>\n",
       "      <td>0.303024</td>\n",
       "      <td>0.228474</td>\n",
       "      <td>0.0</td>\n",
       "      <td>0.1100</td>\n",
       "      <td>0.250</td>\n",
       "      <td>0.4500</td>\n",
       "      <td>1.0</td>\n",
       "    </tr>\n",
       "    <tr>\n",
       "      <th>...</th>\n",
       "      <td>...</td>\n",
       "      <td>...</td>\n",
       "      <td>...</td>\n",
       "      <td>...</td>\n",
       "      <td>...</td>\n",
       "      <td>...</td>\n",
       "      <td>...</td>\n",
       "      <td>...</td>\n",
       "    </tr>\n",
       "    <tr>\n",
       "      <th>MedNumBR</th>\n",
       "      <td>1994.0</td>\n",
       "      <td>0.314694</td>\n",
       "      <td>0.255182</td>\n",
       "      <td>0.0</td>\n",
       "      <td>0.0000</td>\n",
       "      <td>0.500</td>\n",
       "      <td>0.5000</td>\n",
       "      <td>1.0</td>\n",
       "    </tr>\n",
       "    <tr>\n",
       "      <th>HousVacant</th>\n",
       "      <td>1994.0</td>\n",
       "      <td>0.076815</td>\n",
       "      <td>0.150465</td>\n",
       "      <td>0.0</td>\n",
       "      <td>0.0100</td>\n",
       "      <td>0.030</td>\n",
       "      <td>0.0700</td>\n",
       "      <td>1.0</td>\n",
       "    </tr>\n",
       "    <tr>\n",
       "      <th>PctHousOccup</th>\n",
       "      <td>1994.0</td>\n",
       "      <td>0.719549</td>\n",
       "      <td>0.194024</td>\n",
       "      <td>0.0</td>\n",
       "      <td>0.6300</td>\n",
       "      <td>0.770</td>\n",
       "      <td>0.8600</td>\n",
       "      <td>1.0</td>\n",
       "    </tr>\n",
       "    <tr>\n",
       "      <th>PctHousOwnOcc</th>\n",
       "      <td>1994.0</td>\n",
       "      <td>0.548686</td>\n",
       "      <td>0.185204</td>\n",
       "      <td>0.0</td>\n",
       "      <td>0.4300</td>\n",
       "      <td>0.540</td>\n",
       "      <td>0.6700</td>\n",
       "      <td>1.0</td>\n",
       "    </tr>\n",
       "    <tr>\n",
       "      <th>PctVacantBoarded</th>\n",
       "      <td>1994.0</td>\n",
       "      <td>0.204529</td>\n",
       "      <td>0.217770</td>\n",
       "      <td>0.0</td>\n",
       "      <td>0.0600</td>\n",
       "      <td>0.130</td>\n",
       "      <td>0.2700</td>\n",
       "      <td>1.0</td>\n",
       "    </tr>\n",
       "    <tr>\n",
       "      <th>PctVacMore6Mos</th>\n",
       "      <td>1994.0</td>\n",
       "      <td>0.433335</td>\n",
       "      <td>0.188986</td>\n",
       "      <td>0.0</td>\n",
       "      <td>0.2900</td>\n",
       "      <td>0.420</td>\n",
       "      <td>0.5600</td>\n",
       "      <td>1.0</td>\n",
       "    </tr>\n",
       "    <tr>\n",
       "      <th>MedYrHousBuilt</th>\n",
       "      <td>1994.0</td>\n",
       "      <td>0.494178</td>\n",
       "      <td>0.232467</td>\n",
       "      <td>0.0</td>\n",
       "      <td>0.3500</td>\n",
       "      <td>0.520</td>\n",
       "      <td>0.6700</td>\n",
       "      <td>1.0</td>\n",
       "    </tr>\n",
       "    <tr>\n",
       "      <th>PctHousNoPhone</th>\n",
       "      <td>1994.0</td>\n",
       "      <td>0.264478</td>\n",
       "      <td>0.242847</td>\n",
       "      <td>0.0</td>\n",
       "      <td>0.0600</td>\n",
       "      <td>0.185</td>\n",
       "      <td>0.4200</td>\n",
       "      <td>1.0</td>\n",
       "    </tr>\n",
       "    <tr>\n",
       "      <th>PctWOFullPlumb</th>\n",
       "      <td>1994.0</td>\n",
       "      <td>0.243059</td>\n",
       "      <td>0.206295</td>\n",
       "      <td>0.0</td>\n",
       "      <td>0.1000</td>\n",
       "      <td>0.190</td>\n",
       "      <td>0.3300</td>\n",
       "      <td>1.0</td>\n",
       "    </tr>\n",
       "    <tr>\n",
       "      <th>OwnOccLowQuart</th>\n",
       "      <td>1994.0</td>\n",
       "      <td>0.264689</td>\n",
       "      <td>0.224425</td>\n",
       "      <td>0.0</td>\n",
       "      <td>0.0900</td>\n",
       "      <td>0.180</td>\n",
       "      <td>0.4000</td>\n",
       "      <td>1.0</td>\n",
       "    </tr>\n",
       "    <tr>\n",
       "      <th>OwnOccMedVal</th>\n",
       "      <td>1994.0</td>\n",
       "      <td>0.263490</td>\n",
       "      <td>0.231542</td>\n",
       "      <td>0.0</td>\n",
       "      <td>0.0900</td>\n",
       "      <td>0.170</td>\n",
       "      <td>0.3900</td>\n",
       "      <td>1.0</td>\n",
       "    </tr>\n",
       "    <tr>\n",
       "      <th>OwnOccHiQuart</th>\n",
       "      <td>1994.0</td>\n",
       "      <td>0.268942</td>\n",
       "      <td>0.235252</td>\n",
       "      <td>0.0</td>\n",
       "      <td>0.0900</td>\n",
       "      <td>0.180</td>\n",
       "      <td>0.3800</td>\n",
       "      <td>1.0</td>\n",
       "    </tr>\n",
       "    <tr>\n",
       "      <th>RentLowQ</th>\n",
       "      <td>1994.0</td>\n",
       "      <td>0.346379</td>\n",
       "      <td>0.219323</td>\n",
       "      <td>0.0</td>\n",
       "      <td>0.1700</td>\n",
       "      <td>0.310</td>\n",
       "      <td>0.4900</td>\n",
       "      <td>1.0</td>\n",
       "    </tr>\n",
       "    <tr>\n",
       "      <th>RentMedian</th>\n",
       "      <td>1994.0</td>\n",
       "      <td>0.372457</td>\n",
       "      <td>0.209278</td>\n",
       "      <td>0.0</td>\n",
       "      <td>0.2000</td>\n",
       "      <td>0.330</td>\n",
       "      <td>0.5200</td>\n",
       "      <td>1.0</td>\n",
       "    </tr>\n",
       "    <tr>\n",
       "      <th>RentHighQ</th>\n",
       "      <td>1994.0</td>\n",
       "      <td>0.422964</td>\n",
       "      <td>0.248286</td>\n",
       "      <td>0.0</td>\n",
       "      <td>0.2200</td>\n",
       "      <td>0.370</td>\n",
       "      <td>0.5900</td>\n",
       "      <td>1.0</td>\n",
       "    </tr>\n",
       "    <tr>\n",
       "      <th>MedRent</th>\n",
       "      <td>1994.0</td>\n",
       "      <td>0.384102</td>\n",
       "      <td>0.213404</td>\n",
       "      <td>0.0</td>\n",
       "      <td>0.2100</td>\n",
       "      <td>0.340</td>\n",
       "      <td>0.5300</td>\n",
       "      <td>1.0</td>\n",
       "    </tr>\n",
       "    <tr>\n",
       "      <th>MedRentPctHousInc</th>\n",
       "      <td>1994.0</td>\n",
       "      <td>0.490125</td>\n",
       "      <td>0.169500</td>\n",
       "      <td>0.0</td>\n",
       "      <td>0.3700</td>\n",
       "      <td>0.480</td>\n",
       "      <td>0.5900</td>\n",
       "      <td>1.0</td>\n",
       "    </tr>\n",
       "    <tr>\n",
       "      <th>MedOwnCostPctInc</th>\n",
       "      <td>1994.0</td>\n",
       "      <td>0.449754</td>\n",
       "      <td>0.187274</td>\n",
       "      <td>0.0</td>\n",
       "      <td>0.3200</td>\n",
       "      <td>0.450</td>\n",
       "      <td>0.5800</td>\n",
       "      <td>1.0</td>\n",
       "    </tr>\n",
       "    <tr>\n",
       "      <th>MedOwnCostPctIncNoMtg</th>\n",
       "      <td>1994.0</td>\n",
       "      <td>0.403816</td>\n",
       "      <td>0.192593</td>\n",
       "      <td>0.0</td>\n",
       "      <td>0.2500</td>\n",
       "      <td>0.370</td>\n",
       "      <td>0.5100</td>\n",
       "      <td>1.0</td>\n",
       "    </tr>\n",
       "    <tr>\n",
       "      <th>NumInShelters</th>\n",
       "      <td>1994.0</td>\n",
       "      <td>0.029438</td>\n",
       "      <td>0.102607</td>\n",
       "      <td>0.0</td>\n",
       "      <td>0.0000</td>\n",
       "      <td>0.000</td>\n",
       "      <td>0.0100</td>\n",
       "      <td>1.0</td>\n",
       "    </tr>\n",
       "    <tr>\n",
       "      <th>NumStreet</th>\n",
       "      <td>1994.0</td>\n",
       "      <td>0.022778</td>\n",
       "      <td>0.100400</td>\n",
       "      <td>0.0</td>\n",
       "      <td>0.0000</td>\n",
       "      <td>0.000</td>\n",
       "      <td>0.0000</td>\n",
       "      <td>1.0</td>\n",
       "    </tr>\n",
       "    <tr>\n",
       "      <th>PctForeignBorn</th>\n",
       "      <td>1994.0</td>\n",
       "      <td>0.215552</td>\n",
       "      <td>0.231134</td>\n",
       "      <td>0.0</td>\n",
       "      <td>0.0600</td>\n",
       "      <td>0.130</td>\n",
       "      <td>0.2800</td>\n",
       "      <td>1.0</td>\n",
       "    </tr>\n",
       "    <tr>\n",
       "      <th>PctBornSameState</th>\n",
       "      <td>1994.0</td>\n",
       "      <td>0.608892</td>\n",
       "      <td>0.204329</td>\n",
       "      <td>0.0</td>\n",
       "      <td>0.4700</td>\n",
       "      <td>0.630</td>\n",
       "      <td>0.7775</td>\n",
       "      <td>1.0</td>\n",
       "    </tr>\n",
       "    <tr>\n",
       "      <th>PctSameHouse85</th>\n",
       "      <td>1994.0</td>\n",
       "      <td>0.535050</td>\n",
       "      <td>0.181352</td>\n",
       "      <td>0.0</td>\n",
       "      <td>0.4200</td>\n",
       "      <td>0.540</td>\n",
       "      <td>0.6600</td>\n",
       "      <td>1.0</td>\n",
       "    </tr>\n",
       "    <tr>\n",
       "      <th>PctSameCity85</th>\n",
       "      <td>1994.0</td>\n",
       "      <td>0.626424</td>\n",
       "      <td>0.200521</td>\n",
       "      <td>0.0</td>\n",
       "      <td>0.5200</td>\n",
       "      <td>0.670</td>\n",
       "      <td>0.7700</td>\n",
       "      <td>1.0</td>\n",
       "    </tr>\n",
       "    <tr>\n",
       "      <th>PctSameState85</th>\n",
       "      <td>1994.0</td>\n",
       "      <td>0.651530</td>\n",
       "      <td>0.198221</td>\n",
       "      <td>0.0</td>\n",
       "      <td>0.5600</td>\n",
       "      <td>0.700</td>\n",
       "      <td>0.7900</td>\n",
       "      <td>1.0</td>\n",
       "    </tr>\n",
       "    <tr>\n",
       "      <th>LandArea</th>\n",
       "      <td>1994.0</td>\n",
       "      <td>0.065231</td>\n",
       "      <td>0.109459</td>\n",
       "      <td>0.0</td>\n",
       "      <td>0.0200</td>\n",
       "      <td>0.040</td>\n",
       "      <td>0.0700</td>\n",
       "      <td>1.0</td>\n",
       "    </tr>\n",
       "    <tr>\n",
       "      <th>PopDens</th>\n",
       "      <td>1994.0</td>\n",
       "      <td>0.232854</td>\n",
       "      <td>0.203092</td>\n",
       "      <td>0.0</td>\n",
       "      <td>0.1000</td>\n",
       "      <td>0.170</td>\n",
       "      <td>0.2800</td>\n",
       "      <td>1.0</td>\n",
       "    </tr>\n",
       "    <tr>\n",
       "      <th>PctUsePubTrans</th>\n",
       "      <td>1994.0</td>\n",
       "      <td>0.161685</td>\n",
       "      <td>0.229055</td>\n",
       "      <td>0.0</td>\n",
       "      <td>0.0200</td>\n",
       "      <td>0.070</td>\n",
       "      <td>0.1900</td>\n",
       "      <td>1.0</td>\n",
       "    </tr>\n",
       "    <tr>\n",
       "      <th>ViolentCrimesPerPop</th>\n",
       "      <td>1994.0</td>\n",
       "      <td>0.237979</td>\n",
       "      <td>0.232985</td>\n",
       "      <td>0.0</td>\n",
       "      <td>0.0700</td>\n",
       "      <td>0.150</td>\n",
       "      <td>0.3300</td>\n",
       "      <td>1.0</td>\n",
       "    </tr>\n",
       "  </tbody>\n",
       "</table>\n",
       "<p>99 rows × 8 columns</p>\n",
       "</div>"
      ],
      "text/plain": [
       "                        count       mean        std  min      25%     50%  \\\n",
       "state                  1994.0  28.683551  16.397553  1.0  12.0000  34.000   \n",
       "population             1994.0   0.057593   0.126906  0.0   0.0100   0.020   \n",
       "householdsize          1994.0   0.463395   0.163717  0.0   0.3500   0.440   \n",
       "racepctblack           1994.0   0.179629   0.253442  0.0   0.0200   0.060   \n",
       "racePctWhite           1994.0   0.753716   0.244039  0.0   0.6300   0.850   \n",
       "racePctAsian           1994.0   0.153681   0.208877  0.0   0.0400   0.070   \n",
       "racePctHisp            1994.0   0.144022   0.232492  0.0   0.0100   0.040   \n",
       "agePct12t21            1994.0   0.424218   0.155196  0.0   0.3400   0.400   \n",
       "agePct12t29            1994.0   0.493867   0.143564  0.0   0.4100   0.480   \n",
       "agePct16t24            1994.0   0.336264   0.166505  0.0   0.2500   0.290   \n",
       "agePct65up             1994.0   0.423164   0.179185  0.0   0.3000   0.420   \n",
       "numbUrban              1994.0   0.064072   0.128256  0.0   0.0000   0.030   \n",
       "pctUrban               1994.0   0.696269   0.444811  0.0   0.0000   1.000   \n",
       "medIncome              1994.0   0.361123   0.209362  0.0   0.2000   0.320   \n",
       "pctWWage               1994.0   0.558154   0.182913  0.0   0.4400   0.560   \n",
       "pctWFarmSelf           1994.0   0.291570   0.204108  0.0   0.1600   0.230   \n",
       "pctWInvInc             1994.0   0.495687   0.178071  0.0   0.3700   0.480   \n",
       "pctWSocSec             1994.0   0.471133   0.173619  0.0   0.3500   0.475   \n",
       "pctWPubAsst            1994.0   0.317778   0.222137  0.0   0.1425   0.260   \n",
       "pctWRetire             1994.0   0.479248   0.167564  0.0   0.3600   0.470   \n",
       "medFamInc              1994.0   0.375677   0.198257  0.0   0.2300   0.330   \n",
       "perCapInc              1994.0   0.350251   0.191109  0.0   0.2200   0.300   \n",
       "whitePerCap            1994.0   0.368049   0.186804  0.0   0.2400   0.320   \n",
       "blackPerCap            1994.0   0.291098   0.171593  0.0   0.1725   0.250   \n",
       "indianPerCap           1994.0   0.203506   0.164775  0.0   0.1100   0.170   \n",
       "AsianPerCap            1994.0   0.322357   0.195411  0.0   0.1900   0.280   \n",
       "OtherPerCap            1994.0   0.284742   0.190960  0.0   0.1700   0.250   \n",
       "HispPerCap             1994.0   0.386279   0.183081  0.0   0.2600   0.345   \n",
       "NumUnderPov            1994.0   0.055507   0.127941  0.0   0.0100   0.020   \n",
       "PctPopUnderPov         1994.0   0.303024   0.228474  0.0   0.1100   0.250   \n",
       "...                       ...        ...        ...  ...      ...     ...   \n",
       "MedNumBR               1994.0   0.314694   0.255182  0.0   0.0000   0.500   \n",
       "HousVacant             1994.0   0.076815   0.150465  0.0   0.0100   0.030   \n",
       "PctHousOccup           1994.0   0.719549   0.194024  0.0   0.6300   0.770   \n",
       "PctHousOwnOcc          1994.0   0.548686   0.185204  0.0   0.4300   0.540   \n",
       "PctVacantBoarded       1994.0   0.204529   0.217770  0.0   0.0600   0.130   \n",
       "PctVacMore6Mos         1994.0   0.433335   0.188986  0.0   0.2900   0.420   \n",
       "MedYrHousBuilt         1994.0   0.494178   0.232467  0.0   0.3500   0.520   \n",
       "PctHousNoPhone         1994.0   0.264478   0.242847  0.0   0.0600   0.185   \n",
       "PctWOFullPlumb         1994.0   0.243059   0.206295  0.0   0.1000   0.190   \n",
       "OwnOccLowQuart         1994.0   0.264689   0.224425  0.0   0.0900   0.180   \n",
       "OwnOccMedVal           1994.0   0.263490   0.231542  0.0   0.0900   0.170   \n",
       "OwnOccHiQuart          1994.0   0.268942   0.235252  0.0   0.0900   0.180   \n",
       "RentLowQ               1994.0   0.346379   0.219323  0.0   0.1700   0.310   \n",
       "RentMedian             1994.0   0.372457   0.209278  0.0   0.2000   0.330   \n",
       "RentHighQ              1994.0   0.422964   0.248286  0.0   0.2200   0.370   \n",
       "MedRent                1994.0   0.384102   0.213404  0.0   0.2100   0.340   \n",
       "MedRentPctHousInc      1994.0   0.490125   0.169500  0.0   0.3700   0.480   \n",
       "MedOwnCostPctInc       1994.0   0.449754   0.187274  0.0   0.3200   0.450   \n",
       "MedOwnCostPctIncNoMtg  1994.0   0.403816   0.192593  0.0   0.2500   0.370   \n",
       "NumInShelters          1994.0   0.029438   0.102607  0.0   0.0000   0.000   \n",
       "NumStreet              1994.0   0.022778   0.100400  0.0   0.0000   0.000   \n",
       "PctForeignBorn         1994.0   0.215552   0.231134  0.0   0.0600   0.130   \n",
       "PctBornSameState       1994.0   0.608892   0.204329  0.0   0.4700   0.630   \n",
       "PctSameHouse85         1994.0   0.535050   0.181352  0.0   0.4200   0.540   \n",
       "PctSameCity85          1994.0   0.626424   0.200521  0.0   0.5200   0.670   \n",
       "PctSameState85         1994.0   0.651530   0.198221  0.0   0.5600   0.700   \n",
       "LandArea               1994.0   0.065231   0.109459  0.0   0.0200   0.040   \n",
       "PopDens                1994.0   0.232854   0.203092  0.0   0.1000   0.170   \n",
       "PctUsePubTrans         1994.0   0.161685   0.229055  0.0   0.0200   0.070   \n",
       "ViolentCrimesPerPop    1994.0   0.237979   0.232985  0.0   0.0700   0.150   \n",
       "\n",
       "                           75%   max  \n",
       "state                  42.0000  56.0  \n",
       "population              0.0500   1.0  \n",
       "householdsize           0.5400   1.0  \n",
       "racepctblack            0.2300   1.0  \n",
       "racePctWhite            0.9400   1.0  \n",
       "racePctAsian            0.1700   1.0  \n",
       "racePctHisp             0.1600   1.0  \n",
       "agePct12t21             0.4700   1.0  \n",
       "agePct12t29             0.5400   1.0  \n",
       "agePct16t24             0.3600   1.0  \n",
       "agePct65up              0.5300   1.0  \n",
       "numbUrban               0.0700   1.0  \n",
       "pctUrban                1.0000   1.0  \n",
       "medIncome               0.4900   1.0  \n",
       "pctWWage                0.6900   1.0  \n",
       "pctWFarmSelf            0.3700   1.0  \n",
       "pctWInvInc              0.6200   1.0  \n",
       "pctWSocSec              0.5800   1.0  \n",
       "pctWPubAsst             0.4400   1.0  \n",
       "pctWRetire              0.5800   1.0  \n",
       "medFamInc               0.4800   1.0  \n",
       "perCapInc               0.4300   1.0  \n",
       "whitePerCap             0.4400   1.0  \n",
       "blackPerCap             0.3800   1.0  \n",
       "indianPerCap            0.2500   1.0  \n",
       "AsianPerCap             0.4000   1.0  \n",
       "OtherPerCap             0.3600   1.0  \n",
       "HispPerCap              0.4800   1.0  \n",
       "NumUnderPov             0.0500   1.0  \n",
       "PctPopUnderPov          0.4500   1.0  \n",
       "...                        ...   ...  \n",
       "MedNumBR                0.5000   1.0  \n",
       "HousVacant              0.0700   1.0  \n",
       "PctHousOccup            0.8600   1.0  \n",
       "PctHousOwnOcc           0.6700   1.0  \n",
       "PctVacantBoarded        0.2700   1.0  \n",
       "PctVacMore6Mos          0.5600   1.0  \n",
       "MedYrHousBuilt          0.6700   1.0  \n",
       "PctHousNoPhone          0.4200   1.0  \n",
       "PctWOFullPlumb          0.3300   1.0  \n",
       "OwnOccLowQuart          0.4000   1.0  \n",
       "OwnOccMedVal            0.3900   1.0  \n",
       "OwnOccHiQuart           0.3800   1.0  \n",
       "RentLowQ                0.4900   1.0  \n",
       "RentMedian              0.5200   1.0  \n",
       "RentHighQ               0.5900   1.0  \n",
       "MedRent                 0.5300   1.0  \n",
       "MedRentPctHousInc       0.5900   1.0  \n",
       "MedOwnCostPctInc        0.5800   1.0  \n",
       "MedOwnCostPctIncNoMtg   0.5100   1.0  \n",
       "NumInShelters           0.0100   1.0  \n",
       "NumStreet               0.0000   1.0  \n",
       "PctForeignBorn          0.2800   1.0  \n",
       "PctBornSameState        0.7775   1.0  \n",
       "PctSameHouse85          0.6600   1.0  \n",
       "PctSameCity85           0.7700   1.0  \n",
       "PctSameState85          0.7900   1.0  \n",
       "LandArea                0.0700   1.0  \n",
       "PopDens                 0.2800   1.0  \n",
       "PctUsePubTrans          0.1900   1.0  \n",
       "ViolentCrimesPerPop     0.3300   1.0  \n",
       "\n",
       "[99 rows x 8 columns]"
      ]
     },
     "execution_count": 37,
     "metadata": {},
     "output_type": "execute_result"
    }
   ],
   "source": [
    "df_crime.describe().T"
   ]
  },
  {
   "cell_type": "code",
   "execution_count": 38,
   "metadata": {
    "collapsed": false
   },
   "outputs": [],
   "source": [
    "df_crime = df_crime.reindex(np.random.permutation(df_crime.index))"
   ]
  },
  {
   "cell_type": "code",
   "execution_count": 39,
   "metadata": {
    "collapsed": false
   },
   "outputs": [
    {
     "data": {
      "text/html": [
       "<div>\n",
       "<table border=\"1\" class=\"dataframe\">\n",
       "  <thead>\n",
       "    <tr style=\"text-align: right;\">\n",
       "      <th></th>\n",
       "      <th>state</th>\n",
       "      <th>communityname</th>\n",
       "      <th>population</th>\n",
       "      <th>householdsize</th>\n",
       "      <th>racepctblack</th>\n",
       "      <th>racePctWhite</th>\n",
       "      <th>racePctAsian</th>\n",
       "      <th>racePctHisp</th>\n",
       "      <th>agePct12t21</th>\n",
       "      <th>agePct12t29</th>\n",
       "      <th>...</th>\n",
       "      <th>NumStreet</th>\n",
       "      <th>PctForeignBorn</th>\n",
       "      <th>PctBornSameState</th>\n",
       "      <th>PctSameHouse85</th>\n",
       "      <th>PctSameCity85</th>\n",
       "      <th>PctSameState85</th>\n",
       "      <th>LandArea</th>\n",
       "      <th>PopDens</th>\n",
       "      <th>PctUsePubTrans</th>\n",
       "      <th>ViolentCrimesPerPop</th>\n",
       "    </tr>\n",
       "  </thead>\n",
       "  <tbody>\n",
       "    <tr>\n",
       "      <th>717</th>\n",
       "      <td>29</td>\n",
       "      <td>BlueSpringscity</td>\n",
       "      <td>0.05</td>\n",
       "      <td>0.60</td>\n",
       "      <td>0.05</td>\n",
       "      <td>0.94</td>\n",
       "      <td>0.06</td>\n",
       "      <td>0.03</td>\n",
       "      <td>0.51</td>\n",
       "      <td>0.51</td>\n",
       "      <td>...</td>\n",
       "      <td>0.0</td>\n",
       "      <td>0.04</td>\n",
       "      <td>0.64</td>\n",
       "      <td>0.38</td>\n",
       "      <td>0.67</td>\n",
       "      <td>0.60</td>\n",
       "      <td>0.04</td>\n",
       "      <td>0.21</td>\n",
       "      <td>0.03</td>\n",
       "      <td>0.09</td>\n",
       "    </tr>\n",
       "    <tr>\n",
       "      <th>1266</th>\n",
       "      <td>34</td>\n",
       "      <td>Rockawaytownship</td>\n",
       "      <td>0.02</td>\n",
       "      <td>0.53</td>\n",
       "      <td>0.03</td>\n",
       "      <td>0.91</td>\n",
       "      <td>0.22</td>\n",
       "      <td>0.06</td>\n",
       "      <td>0.34</td>\n",
       "      <td>0.43</td>\n",
       "      <td>...</td>\n",
       "      <td>0.0</td>\n",
       "      <td>0.27</td>\n",
       "      <td>0.59</td>\n",
       "      <td>0.70</td>\n",
       "      <td>0.68</td>\n",
       "      <td>0.75</td>\n",
       "      <td>0.12</td>\n",
       "      <td>0.04</td>\n",
       "      <td>0.13</td>\n",
       "      <td>0.07</td>\n",
       "    </tr>\n",
       "    <tr>\n",
       "      <th>123</th>\n",
       "      <td>45</td>\n",
       "      <td>Mauldincity</td>\n",
       "      <td>0.00</td>\n",
       "      <td>0.45</td>\n",
       "      <td>0.28</td>\n",
       "      <td>0.76</td>\n",
       "      <td>0.06</td>\n",
       "      <td>0.02</td>\n",
       "      <td>0.43</td>\n",
       "      <td>0.48</td>\n",
       "      <td>...</td>\n",
       "      <td>0.0</td>\n",
       "      <td>0.04</td>\n",
       "      <td>0.48</td>\n",
       "      <td>0.43</td>\n",
       "      <td>0.53</td>\n",
       "      <td>0.36</td>\n",
       "      <td>0.02</td>\n",
       "      <td>0.14</td>\n",
       "      <td>0.00</td>\n",
       "      <td>0.09</td>\n",
       "    </tr>\n",
       "    <tr>\n",
       "      <th>1261</th>\n",
       "      <td>13</td>\n",
       "      <td>Bainbridgecity</td>\n",
       "      <td>0.00</td>\n",
       "      <td>0.45</td>\n",
       "      <td>0.92</td>\n",
       "      <td>0.27</td>\n",
       "      <td>0.01</td>\n",
       "      <td>0.03</td>\n",
       "      <td>0.48</td>\n",
       "      <td>0.48</td>\n",
       "      <td>...</td>\n",
       "      <td>0.0</td>\n",
       "      <td>0.06</td>\n",
       "      <td>0.77</td>\n",
       "      <td>0.58</td>\n",
       "      <td>0.71</td>\n",
       "      <td>0.68</td>\n",
       "      <td>0.04</td>\n",
       "      <td>0.06</td>\n",
       "      <td>0.00</td>\n",
       "      <td>0.41</td>\n",
       "    </tr>\n",
       "    <tr>\n",
       "      <th>460</th>\n",
       "      <td>13</td>\n",
       "      <td>Covingtoncity</td>\n",
       "      <td>0.00</td>\n",
       "      <td>0.49</td>\n",
       "      <td>0.89</td>\n",
       "      <td>0.30</td>\n",
       "      <td>0.01</td>\n",
       "      <td>0.02</td>\n",
       "      <td>0.47</td>\n",
       "      <td>0.51</td>\n",
       "      <td>...</td>\n",
       "      <td>0.0</td>\n",
       "      <td>0.02</td>\n",
       "      <td>0.93</td>\n",
       "      <td>0.64</td>\n",
       "      <td>0.79</td>\n",
       "      <td>0.89</td>\n",
       "      <td>0.03</td>\n",
       "      <td>0.07</td>\n",
       "      <td>0.04</td>\n",
       "      <td>0.55</td>\n",
       "    </tr>\n",
       "  </tbody>\n",
       "</table>\n",
       "<p>5 rows × 100 columns</p>\n",
       "</div>"
      ],
      "text/plain": [
       "      state     communityname  population  householdsize  racepctblack  \\\n",
       "717      29   BlueSpringscity        0.05           0.60          0.05   \n",
       "1266     34  Rockawaytownship        0.02           0.53          0.03   \n",
       "123      45       Mauldincity        0.00           0.45          0.28   \n",
       "1261     13    Bainbridgecity        0.00           0.45          0.92   \n",
       "460      13     Covingtoncity        0.00           0.49          0.89   \n",
       "\n",
       "      racePctWhite  racePctAsian  racePctHisp  agePct12t21  agePct12t29  \\\n",
       "717           0.94          0.06         0.03         0.51         0.51   \n",
       "1266          0.91          0.22         0.06         0.34         0.43   \n",
       "123           0.76          0.06         0.02         0.43         0.48   \n",
       "1261          0.27          0.01         0.03         0.48         0.48   \n",
       "460           0.30          0.01         0.02         0.47         0.51   \n",
       "\n",
       "             ...           NumStreet  PctForeignBorn  PctBornSameState  \\\n",
       "717          ...                 0.0            0.04              0.64   \n",
       "1266         ...                 0.0            0.27              0.59   \n",
       "123          ...                 0.0            0.04              0.48   \n",
       "1261         ...                 0.0            0.06              0.77   \n",
       "460          ...                 0.0            0.02              0.93   \n",
       "\n",
       "      PctSameHouse85  PctSameCity85  PctSameState85  LandArea  PopDens  \\\n",
       "717             0.38           0.67            0.60      0.04     0.21   \n",
       "1266            0.70           0.68            0.75      0.12     0.04   \n",
       "123             0.43           0.53            0.36      0.02     0.14   \n",
       "1261            0.58           0.71            0.68      0.04     0.06   \n",
       "460             0.64           0.79            0.89      0.03     0.07   \n",
       "\n",
       "      PctUsePubTrans  ViolentCrimesPerPop  \n",
       "717             0.03                 0.09  \n",
       "1266            0.13                 0.07  \n",
       "123             0.00                 0.09  \n",
       "1261            0.00                 0.41  \n",
       "460             0.04                 0.55  \n",
       "\n",
       "[5 rows x 100 columns]"
      ]
     },
     "execution_count": 39,
     "metadata": {},
     "output_type": "execute_result"
    }
   ],
   "source": [
    "df_crime.head()"
   ]
  },
  {
   "cell_type": "code",
   "execution_count": 40,
   "metadata": {
    "collapsed": false
   },
   "outputs": [
    {
     "name": "stdout",
     "output_type": "stream",
     "text": [
      "(1595, 100)\n",
      "(399, 100)\n"
     ]
    }
   ],
   "source": [
    "from sklearn.cross_validation import train_test_split\n",
    "train, test = train_test_split(df_crime, test_size = 0.2, random_state =42)\n",
    "\n",
    "print train.shape\n",
    "print test.shape"
   ]
  },
  {
   "cell_type": "code",
   "execution_count": 41,
   "metadata": {
    "collapsed": false
   },
   "outputs": [
    {
     "name": "stdout",
     "output_type": "stream",
     "text": [
      "1595\n",
      "399\n"
     ]
    }
   ],
   "source": [
    "y_train = np.array(train.ViolentCrimesPerPop)\n",
    "print len(y_train)\n",
    "y_test = np.array(test.ViolentCrimesPerPop)\n",
    "print len(y_test)"
   ]
  },
  {
   "cell_type": "code",
   "execution_count": 42,
   "metadata": {
    "collapsed": false
   },
   "outputs": [
    {
     "name": "stdout",
     "output_type": "stream",
     "text": [
      "(1595L, 97L)\n",
      "(399L, 97L)\n"
     ]
    }
   ],
   "source": [
    "X_train = (train.drop(['state', 'communityname', 'ViolentCrimesPerPop'],  axis = 1))\n",
    "x_train = np.array(X_train)\n",
    "X_test = (test.drop(['state', 'communityname', 'ViolentCrimesPerPop'],  axis = 1))\n",
    "x_test = np.array(X_test)\n",
    "\n",
    "print x_train.shape\n",
    "print x_test.shape"
   ]
  },
  {
   "cell_type": "code",
   "execution_count": 43,
   "metadata": {
    "collapsed": false
   },
   "outputs": [
    {
     "name": "stdout",
     "output_type": "stream",
     "text": [
      "(1595L, 98L)\n",
      "(399L, 98L)\n"
     ]
    }
   ],
   "source": [
    "# In order to do multiple regression we need to add a column of 1s for x0\n",
    "x_train = np.array([np.concatenate((v,[1])) for v in x_train])\n",
    "x_test = np.array([np.concatenate((v,[1])) for v in x_test])\n",
    "\n",
    "print x_train.shape\n",
    "print x_test.shape"
   ]
  },
  {
   "cell_type": "markdown",
   "metadata": {},
   "source": [
    "### Part b\n",
    "\n",
    "Perform standard linear regression on data using the implementation for Ch. 8 of MLA. Compute the RMSE value on the full training data. Also, plot the correlation between the predicted and actual values of the target attribute. Display the obtained regression coefficients (weights). Finally, perform 10-fold cross-validation using the learned model and compare the final RMSE to the training RMSE (for cross validation, you may use the KFold module from sklearn.cross_validation)."
   ]
  },
  {
   "cell_type": "code",
   "execution_count": 44,
   "metadata": {
    "collapsed": false
   },
   "outputs": [],
   "source": [
    "from numpy import *\n",
    "def standRegres(xArr,yArr):\n",
    "    xMat = mat(xArr); yMat = mat(yArr).T\n",
    "    xTx = xMat.T*xMat\n",
    "    if linalg.det(xTx) == 0.0:\n",
    "        print \"This matrix is singular, cannot do inverse\"\n",
    "        \n",
    "    ws = xTx.I * (xMat.T*yMat)\n",
    "    yHat = xMat * ws\n",
    "    return ws, yHat"
   ]
  },
  {
   "cell_type": "code",
   "execution_count": 49,
   "metadata": {
    "collapsed": false
   },
   "outputs": [],
   "source": [
    "coef_reg, pred_reg = standRegres(x_train,y_train)"
   ]
  },
  {
   "cell_type": "code",
   "execution_count": 50,
   "metadata": {
    "collapsed": false
   },
   "outputs": [
    {
     "name": "stdout",
     "output_type": "stream",
     "text": [
      "The Length of Co-efficients is 98\n",
      "The Length of Predicted Value is 1595\n"
     ]
    }
   ],
   "source": [
    "print 'The Length of Co-efficients is', len(coef_reg)\n",
    "print 'The Length of Predicted Value is', len(pred_reg)"
   ]
  },
  {
   "cell_type": "code",
   "execution_count": 51,
   "metadata": {
    "collapsed": false
   },
   "outputs": [
    {
     "name": "stdout",
     "output_type": "stream",
     "text": [
      "The weights are as follows: \n",
      "[[-0.1451723 ]\n",
      " [-0.09651162]\n",
      " [ 0.17617614]\n",
      " [-0.07136887]\n",
      " [-0.02995368]\n",
      " [ 0.03001176]\n",
      " [ 0.19853757]\n",
      " [-0.11610078]\n",
      " [-0.33545959]\n",
      " [ 0.07506008]\n",
      " [ 0.10054567]\n",
      " [ 0.03646876]\n",
      " [-0.24089802]\n",
      " [-0.12968467]\n",
      " [ 0.05142602]\n",
      " [-0.14452252]\n",
      " [ 0.09798411]\n",
      " [ 0.08094728]\n",
      " [-0.12258675]\n",
      " [ 0.29226596]\n",
      " [-0.15716204]\n",
      " [-0.03873188]\n",
      " [-0.00711965]\n",
      " [-0.0360012 ]\n",
      " [ 0.02361456]\n",
      " [ 0.04388271]\n",
      " [ 0.02574207]\n",
      " [ 0.18597447]\n",
      " [-0.1898448 ]\n",
      " [-0.11009686]\n",
      " [ 0.08266759]\n",
      " [ 0.08231677]\n",
      " [-0.00441128]\n",
      " [ 0.15645004]\n",
      " [-0.05148172]\n",
      " [ 0.01143498]\n",
      " [ 0.75701364]\n",
      " [ 0.27100172]\n",
      " [ 0.59835284]\n",
      " [-1.25634933]\n",
      " [-0.10487486]\n",
      " [ 0.11424366]\n",
      " [-0.25206895]\n",
      " [-0.08781935]\n",
      " [ 0.00208596]\n",
      " [ 0.0688081 ]\n",
      " [-0.17551885]\n",
      " [-0.2107483 ]\n",
      " [ 0.14545898]\n",
      " [-0.14635769]\n",
      " [ 0.0141314 ]\n",
      " [ 0.01777878]\n",
      " [-0.08629567]\n",
      " [ 0.09321699]\n",
      " [-0.01224361]\n",
      " [-0.2678026 ]\n",
      " [ 0.61504845]\n",
      " [-0.38577438]\n",
      " [ 0.01599855]\n",
      " [-0.08009237]\n",
      " [-0.09217125]\n",
      " [-0.05632696]\n",
      " [ 0.4224959 ]\n",
      " [ 0.14984156]\n",
      " [-0.26023307]\n",
      " [-0.98563487]\n",
      " [ 0.21065966]\n",
      " [ 0.0993157 ]\n",
      " [ 0.03606248]\n",
      " [ 0.10444944]\n",
      " [-0.10579082]\n",
      " [ 0.85721031]\n",
      " [ 0.04062499]\n",
      " [-0.11742821]\n",
      " [-0.03783889]\n",
      " [-0.01589321]\n",
      " [-0.02344251]\n",
      " [-0.44891921]\n",
      " [ 0.53600999]\n",
      " [-0.12754819]\n",
      " [-0.2237221 ]\n",
      " [-0.1537887 ]\n",
      " [-0.0670246 ]\n",
      " [ 0.4365746 ]\n",
      " [ 0.03794205]\n",
      " [-0.01742452]\n",
      " [-0.09934069]\n",
      " [ 0.14377736]\n",
      " [ 0.13666187]\n",
      " [ 0.13201938]\n",
      " [-0.04155536]\n",
      " [ 0.02404331]\n",
      " [ 0.03277364]\n",
      " [ 0.03579481]\n",
      " [ 0.02783348]\n",
      " [-0.02940509]\n",
      " [-0.03723874]\n",
      " [ 0.49963928]]\n"
     ]
    }
   ],
   "source": [
    "print 'The weights are as follows: \\n', coef_reg"
   ]
  },
  {
   "cell_type": "code",
   "execution_count": 52,
   "metadata": {
    "collapsed": false
   },
   "outputs": [
    {
     "data": {
      "text/plain": [
       "<matplotlib.text.Text at 0xc4df080>"
      ]
     },
     "execution_count": 52,
     "metadata": {},
     "output_type": "execute_result"
    },
    {
     "data": {
      "image/png": "[encoded data removed]",
      "text/plain": [
       "<matplotlib.figure.Figure at 0xa5bd240>"
      ]
     },
     "metadata": {},
     "output_type": "display_data"
    }
   ],
   "source": [
    "%matplotlib inline\n",
    "pl.plot( pred_reg,y_train, 'ro')\n",
    "pl.plot([0,1.2],[0,1.2])\n",
    "pl.xlabel('Predicted Values')\n",
    "pl.ylabel('Actual Values')\n",
    "pl.title('Correlation between Predicted & Actual Values')"
   ]
  },
  {
   "cell_type": "code",
   "execution_count": 53,
   "metadata": {
    "collapsed": false
   },
   "outputs": [
    {
     "name": "stdout",
     "output_type": "stream",
     "text": [
      "The RMSE for training set is  0.125447624284\n"
     ]
    }
   ],
   "source": [
    "df_delete = pd.DataFrame(pred_reg, columns = ['Predicted'])\n",
    "y_pred_train = np.array(df_delete.Predicted)\n",
    "\n",
    "err_train = abs(y_pred_train - y_train)\n",
    "err_train\n",
    "\n",
    "tot_err_train = dot(err_train, err_train)\n",
    "rmse_train = np.sqrt(tot_err_train/len(y_pred_train))\n",
    "\n",
    "print 'The RMSE for training set is ', (rmse_train)"
   ]
  },
  {
   "cell_type": "code",
   "execution_count": 54,
   "metadata": {
    "collapsed": false
   },
   "outputs": [
    {
     "name": "stdout",
     "output_type": "stream",
     "text": [
      "The RMSE for cross-validation is 0.0412214437076\n"
     ]
    }
   ],
   "source": [
    "kf  = KFold(len(x_train), n_folds = 10)\n",
    "\n",
    "for train, test in kf:\n",
    "    \n",
    "    coef_reg, pred_reg = standRegres(x_train[train],y_train[train])\n",
    "    \n",
    "    pred_test = x_train[test] * coef_reg \n",
    "    df_delete = pd.DataFrame(pred_test, columns = ['Predicted'])\n",
    "    y_pred_train = np.array(df_delete.Predicted)\n",
    "    err = abs(y_pred_train - y_train[test])\n",
    "    tot_err = dot(err, err)\n",
    "\n",
    "rmse_train_cf = np.sqrt(tot_err/len(x_train))\n",
    "print 'The RMSE for cross-validation is', rmse_train_cf"
   ]
  },
  {
   "cell_type": "code",
   "execution_count": 55,
   "metadata": {
    "collapsed": false
   },
   "outputs": [
    {
     "name": "stdout",
     "output_type": "stream",
     "text": [
      "The RMSE for training data is  0.125447624284\n",
      "The RMSE for training data using 10-Fold Cross Validation is  0.0412214437076\n"
     ]
    }
   ],
   "source": [
    "print 'The RMSE for training data is ' , rmse_train\n",
    "print 'The RMSE for training data using 10-Fold Cross Validation is ', rmse_train_cf"
   ]
  },
  {
   "cell_type": "markdown",
   "metadata": {},
   "source": [
    "### Part c\n",
    "\n",
    "Feature Selection:  use the scikit-learn regression model from sklearn.linear_model with a subset of features to perform linear regression. For feature selection, write a script or function to takes as input the training data and target attribute, the model, and any other parameters you find necessary, and returns the optimal percentage of the most informative features to use. Your approach should use k-fold cross-validation on the training data (you can use k=5). You can use feature_selection.SelectPercentile to find the most informative variables. Show the list of most informative variables and their weights [Note: since this is regression not classification, you should use feature_selection.f_regression as scoring function rather than chi2). Next, plot the model's mean absolute error values  on cross-validation relative to the percentage of selected features (See scikit-learn's metrics.mean_absolute_error). In order to use cross_validation.cross_val_score with regression you'll need to pass to it scoring='mean_absolute_error' as a parameter. Once, you have determined the best set of features, run the model with that feature subset on the set-aside test data.  [Hint: for an example of a similar feature selection process please review the class example notebook. Also, review scikit-learn documentation for feature selection.]"
   ]
  },
  {
   "cell_type": "code",
   "execution_count": 56,
   "metadata": {
    "collapsed": true
   },
   "outputs": [],
   "source": [
    "from sklearn import feature_selection"
   ]
  },
  {
   "cell_type": "code",
   "execution_count": 59,
   "metadata": {
    "collapsed": false
   },
   "outputs": [
    {
     "name": "stdout",
     "output_type": "stream",
     "text": [
      "The Optimal Percentage of Features are:36\n",
      "The Optimal number of Features are: 34\n"
     ]
    },
    {
     "name": "stderr",
     "output_type": "stream",
     "text": [
      "C:\\Users\\Taha\\Anaconda2\\lib\\site-packages\\ipykernel\\__main__.py:12: DeprecationWarning: converting an array with ndim > 0 to an index will result in an error in the future\n",
      "C:\\Users\\Taha\\Anaconda2\\lib\\site-packages\\ipykernel\\__main__.py:13: DeprecationWarning: converting an array with ndim > 0 to an index will result in an error in the future\n",
      "C:\\Users\\Taha\\Anaconda2\\lib\\site-packages\\ipykernel\\__main__.py:14: DeprecationWarning: converting an array with ndim > 0 to an index will result in an error in the future\n"
     ]
    },
    {
     "data": {
      "image/png": "[encoded data removed]",
      "text/plain": [
       "<matplotlib.figure.Figure at 0xc851c18>"
      ]
     },
     "metadata": {},
     "output_type": "display_data"
    }
   ],
   "source": [
    "from sklearn import cross_validation\n",
    "\n",
    "percentiles = range(1,100,5)\n",
    "results = []\n",
    "for i in range(1,100,5):\n",
    "    fs = feature_selection.SelectPercentile(feature_selection.f_regression, percentile=i)\n",
    "    X_train_fs = fs.fit_transform(x_train,y_train)\n",
    "    scores = abs(cross_validation.cross_val_score(LinearRegression(), X_train_fs, y_train, cv = 5, scoring= 'mean_absolute_error'))\n",
    "    results = np.append(results, scores.mean())\n",
    "    \n",
    "optimal_percentile = np.where(results == results.min())[0]\n",
    "opt_percentile = (percentiles[optimal_percentile])\n",
    "print 'The Optimal Percentage of Features are:{0}'.format(percentiles[optimal_percentile])\n",
    "optimal_num = int(floor(percentiles[optimal_percentile]*len(X_train.columns)/100))\n",
    "print 'The Optimal number of Features are:', optimal_num \n",
    "        \n",
    "#Plot percentile of features VS. cross-validation scores\n",
    "import pylab as pl\n",
    "pl.figure()\n",
    "pl.xlabel(\"Percentage of features selected\")\n",
    "pl.ylabel(\"Cross validation accuracy\")\n",
    "pl.plot(percentiles,results) \n",
    "pl.grid()\n",
    "pl.title('MAE on Cross Validation Relative to the Percentage of Selected Features')\n",
    "pl.show()"
   ]
  },
  {
   "cell_type": "code",
   "execution_count": 60,
   "metadata": {
    "collapsed": false
   },
   "outputs": [
    {
     "name": "stdout",
     "output_type": "stream",
     "text": [
      "population \t\t\t\t250.135890629\n",
      "racepctblack \t\t\t\t1018.58371634\n",
      "racePctWhite \t\t\t\t1462.8425102\n",
      "numbUrban \t\t\t\t242.474263648\n",
      "medIncome \t\t\t\t340.223686897\n",
      "pctWInvInc \t\t\t\t787.808901851\n",
      "pctWPubAsst \t\t\t\t846.419000565\n",
      "medFamInc \t\t\t\t366.749748253\n",
      "perCapInc \t\t\t\t226.265517805\n",
      "NumUnderPov \t\t\t\t410.26261051\n",
      "PctPopUnderPov \t\t\t\t616.389971786\n",
      "PctLess9thGrade \t\t\t\t341.301506211\n",
      "PctNotHSGrad \t\t\t\t491.811561178\n",
      "PctUnemployed \t\t\t\t596.702802239\n",
      "MalePctDivorce \t\t\t\t566.482707373\n",
      "FemalePctDiv \t\t\t\t682.782072864\n",
      "TotalPctDiv \t\t\t\t662.96707423\n",
      "PctFam2Par \t\t\t\t1538.63855071\n",
      "PctKids2Par \t\t\t\t1854.89147897\n",
      "PctYoungKids2Par \t\t\t\t1265.73718643\n",
      "PctTeen2Par \t\t\t\t1180.17590862\n",
      "NumIlleg \t\t\t\t465.481682055\n",
      "PctIlleg \t\t\t\t1919.79474986\n",
      "PctLargHouseFam \t\t\t\t291.036963266\n",
      "PctPersOwnOccup \t\t\t\t613.050701434\n",
      "PctPersDenseHous \t\t\t\t470.064124585\n",
      "PctHousLess3BR \t\t\t\t464.824659872\n",
      "MedNumBR \t\t\t\t241.151345099\n",
      "HousVacant \t\t\t\t351.558045643\n",
      "PctHousOwnOcc \t\t\t\t452.262770439\n",
      "PctVacantBoarded \t\t\t\t448.14969233\n",
      "PctHousNoPhone \t\t\t\t474.259014353\n",
      "PctWOFullPlumb \t\t\t\t251.804342298\n",
      "MedRentPctHousInc \t\t\t\t214.639971622\n",
      "NumInShelters \t\t\t\t266.10944597\n"
     ]
    }
   ],
   "source": [
    "O_fs = feature_selection.SelectPercentile(feature_selection.f_regression, percentile= 36)\n",
    "O_train_fs = O_fs.fit_transform(x_train,y_train)\n",
    "for j in range(len(X_train.columns.values)):\n",
    "    if O_fs.get_support()[j]:\n",
    "        print X_train.columns.values[j],'\\t\\t\\t\\t', O_fs.scores_[j]"
   ]
  },
  {
   "cell_type": "markdown",
   "metadata": {},
   "source": [
    "### Part d \n",
    "Next, perform Ridge Regression and Lasso Regression, however this time use the modules from sklearn.linear_model. In each case, perform systematic model selection to identify the optimal alpha parameter. First, create a 20%-80% randomized split of the data. Set aside the test portion; the model selection process should be performed using the 80% training data partition. You should create a function that takes as input the data and target attribute; the parameter to vary and a list of its values, the model to be trained, and any other relevant input needed to determine the optimal value for the specified parameter. The model selection process should perform k-fold cross validation (k should be a parameter, but you can select k=5 for this problem). You should also plot the error values on the training and cross-validation splits across the specified values of the alpha parameter. Finally, using the best alpha value, run the model on the set-aside test data. Discuss your observation and conclusions. [Hint: for an example of a similar model selection process please review the class example notebook.]"
   ]
  },
  {
   "cell_type": "code",
   "execution_count": 64,
   "metadata": {
    "collapsed": false
   },
   "outputs": [],
   "source": [
    "def Ridge_Lasso(x,y, test_x, test_y, parameter, list_of_values, model, k):\n",
    "\n",
    "    t_dict = {}\n",
    "    cv_dict = {}  \n",
    "    if model == 'Ridge':\n",
    "        for value in list_of_values:\n",
    "            ridge = Ridge(fit_intercept= True, alpha = value)\n",
    "            ridge.fit(x,y)\n",
    "            p = ridge.predict(x)\n",
    "            err = p-y\n",
    "            total_error = np.dot(err,err)\n",
    "            rmse_train = np.sqrt(total_error/len(p))\n",
    "            t_dict[value] = t_dict.get(value, rmse_train) \n",
    "            \n",
    "            kf = KFold(len(x), n_folds = k)\n",
    "            x_val_err = 0\n",
    "            for train,test in kf:\n",
    "                ridge.fit(x[train], y[train])\n",
    "                p = ridge.predict(x[test])\n",
    "                err = p - y[test]\n",
    "                x_val_err += np.dot(err,err)\n",
    "            rmse_cv = np.sqrt(x_val_err/len(x))\n",
    "            #t_rmse = np.append(t_rmse, [rmse_train])\n",
    "            #cv_rmse = np.append(cv_rmse, [rmse_cv])\n",
    "            cv_dict[value] = cv_dict.get(value,  rmse_cv )\n",
    "        #return t_rmse, cv_rmse\n",
    "        #return ('{:.3f}\\t {:.4f} \\t\\t {:.4f}'.format(value,rmse_train,rmse_cv))\n",
    "    elif  model == 'Lasso':\n",
    "        for value in list_of_values:\n",
    "            lasso = Lasso(fit_intercept=True, alpha = value)\n",
    "            lasso.fit(x,y)\n",
    "            p = lasso.predict(x)\n",
    "            err = p - y\n",
    "            total_error = np.dot(err,err)\n",
    "            rmse_train = np.sqrt(total_error/len(p))\n",
    "            t_dict[value] = t_dict.get(value, rmse_train) \n",
    "            \n",
    "            kf = KFold(len(x), n_folds = k)\n",
    "            x_val_err = 0\n",
    "            for train,test in kf:\n",
    "                lasso.fit(x[train], y[train])\n",
    "                p = lasso.predict(x[test])\n",
    "                err = p - y[test]\n",
    "                x_val_err += np.dot(err,err)\n",
    "            rmse_cv = np.sqrt(x_val_err/len(x))\n",
    "    \n",
    "            #t_rmse = np.append(t_rmse, [rmse_train])\n",
    "            #cv_rmse = np.append(cv_rmse, [rmse_cv])\n",
    "            cv_dict[value] = cv_dict.get(value,  rmse_cv )\n",
    "    \n",
    "\n",
    "\n",
    "\n",
    "    from collections import defaultdict\n",
    "    compl_dict = defaultdict(list)\n",
    "\n",
    "    for d in (t_dict, cv_dict): # you can list as many input dicts as you want here\n",
    "        for key, value in d.iteritems():\n",
    "            compl_dict[key].append(value)\n",
    "\n",
    "            \n",
    "    df_complete = pd.DataFrame(compl_dict.values(), columns = ['Training_RMSE', 'CV_RMSE'])\n",
    "    df_complete['Alpha'] = compl_dict.keys()\n",
    "    df_complete = df_complete.sort_values(by = 'Alpha', axis =0)\n",
    "    \n",
    "    alpha  =  df_complete.Alpha\n",
    "    TRMSE = df_complete.Training_RMSE\n",
    "    CVRMSE = df_complete.CV_RMSE\n",
    "    \n",
    "    Tr_RMSE = df_complete.loc[df_complete.Training_RMSE == df_complete.Training_RMSE.min()]\n",
    "    Tr_Al = Tr_RMSE.iloc[0][0]\n",
    "    \n",
    "    CV_RMSE = df_complete.loc[df_complete.CV_RMSE == df_complete.CV_RMSE.min()]\n",
    "    CV_Al = CV_RMSE.iloc[0][0]\n",
    "    \n",
    "    if model == 'Ridge':\n",
    "        ridge = Ridge(fit_intercept= True, alpha = Tr_Al)\n",
    "        ridge.fit(test_x,test_y)\n",
    "        p_test = ridge.predict(test_x)\n",
    "    elif model == 'Lasso':\n",
    "        lasso = Lasso(fit_intercept=True, alpha = Tr_Al)\n",
    "        lasso.fit(test_x,test_y)\n",
    "        p_test = lasso.predict(test_x)\n",
    "    err_test = p_test - y_test\n",
    "    total_error_test = np.dot(err_test,err_test)\n",
    "    rmse_test = np.sqrt(total_error/len(p))\n",
    "    \n",
    "    \n",
    "    pl.plot(alpha, TRMSE, label = 'RMSE - Training')\n",
    "    pl.plot(alpha, CVRMSE, label = 'RMSE - Cross Validation')\n",
    "    pl.xlabel('Alpha')\n",
    "    pl.ylabel('RMSE')\n",
    "    pl.legend()\n",
    "    pl.legend( loc = 'lower right')\n",
    "    pl.show()\n",
    "    #return Tr_Al, CV_Al\n",
    "    print 'The value of Alpha for Training is', Tr_Al,'\\n', 'The value of Alpha for Testing is ', CV_Al\n",
    "    print 'The RMSE for Testing Set is ', rmse_test"
   ]
  },
  {
   "cell_type": "code",
   "execution_count": 65,
   "metadata": {
    "collapsed": false
   },
   "outputs": [
    {
     "data": {
      "image/png": "[encoded data removed]",
      "text/plain": [
       "<matplotlib.figure.Figure at 0xa2970f0>"
      ]
     },
     "metadata": {},
     "output_type": "display_data"
    },
    {
     "name": "stdout",
     "output_type": "stream",
     "text": [
      "The value of Alpha for Training is 0.125468688002 \n",
      "The value of Alpha for Testing is  0.127821510326\n",
      "The RMSE for Testing Set is  0.293483158315\n"
     ]
    }
   ],
   "source": [
    "lst = np.linspace(0.01,20, 50)\n",
    "\n",
    "#list_of_values\n",
    "Ridge_Lasso(x_train,y_train, x_test, y_test, 'alpha', lst, 'Ridge', 5)\n",
    "#Ridge_Lasso(x,y, parameter, list_of_values, model, k)"
   ]
  },
  {
   "cell_type": "code",
   "execution_count": 66,
   "metadata": {
    "collapsed": false
   },
   "outputs": [
    {
     "data": {
      "image/png": "[encoded data removed]",
      "text/plain": [
       "<matplotlib.figure.Figure at 0xa2975c0>"
      ]
     },
     "metadata": {},
     "output_type": "display_data"
    },
    {
     "name": "stdout",
     "output_type": "stream",
     "text": [
      "The value of Alpha for Training is 0.152521381033 \n",
      "The value of Alpha for Testing is  0.152521381033\n",
      "The RMSE for Testing Set is  0.515197127618\n"
     ]
    }
   ],
   "source": [
    "lst = np.linspace(0.01,20, 50)\n",
    "\n",
    "#list_of_values\n",
    "Ridge_Lasso(x_train,y_train, x_test, y_test, 'alpha', lst, 'Lasso', 5)\n",
    "#Ridge_Lasso(x,y, parameter, list_of_values, model, k)"
   ]
  },
  {
   "cell_type": "markdown",
   "metadata": {},
   "source": [
    "Based on this, we can see that the RMSE for Lasso remains constant, whereas for Ridge, we can see that there is a difference between the RMSE of training and cross validation. "
   ]
  },
  {
   "cell_type": "markdown",
   "metadata": {},
   "source": [
    "### Part e\n",
    "\n",
    "Next, perform regression using Stochastic Gradient Descent for regression. For this part, you should use the SGDRegessor module from sklearn.linear_model. Again, start with creating randomized 80%-20% train-test split. SGDRegessor requires that features be standardized (with 0 mean and scaled by standard deviation). Prior to fiting the model, perform the scaling using StandardScaler from sklearn.preprocessing. For this problem, perform a grid search (using GridSearchCV from sklearn.grid_search) Your grid search should compare combinations of two penalty parameters ('l2', 'l1') and different values of alpha (alpha could vary from 0.0001 which is the default to relatively large values). Using the best parameters, apply the model to the set-aside test data. Finally, perform model selection (similar to part d, above) to find the best \"l1_ratio\" parameter using SGDRegressor with  the \"elasticnet\" penalty parameter. [Note: \"l1_ratio\" is The Elastic Net mixing parameter, with 0 <= l1_ratio <= 1;  l1_ratio=0 corresponds to L2 penalty, l1_ratio=1 to L1 penalty; defaults to 0.15.] Using the best mixing ratio, apply the Elastic Net model to the set-aside test data. Provide a summary of your findings from the above experiments."
   ]
  },
  {
   "cell_type": "code",
   "execution_count": 67,
   "metadata": {
    "collapsed": false
   },
   "outputs": [
    {
     "name": "stdout",
     "output_type": "stream",
     "text": [
      "Method: Stochastic Gradient Descent Regression\n",
      "RMSE on test: 0.1307\n",
      "RMSE on 10-fold CV: 0.2681\n"
     ]
    }
   ],
   "source": [
    "from sklearn.preprocessing import StandardScaler\n",
    "\n",
    "scaler = StandardScaler()\n",
    "scaler.fit(x_train)\n",
    "x_s_train = scaler.transform(x_train)\n",
    "x_s_test = scaler.transform(x_test)\n",
    "\n",
    "sgdreg = SGDRegressor(penalty= 'l2', alpha=0.15, n_iter=200)\n",
    "sgdreg.fit(x_s_train, y_train)\n",
    "p_s_train = sgdreg.predict(x_s_train)\n",
    "\n",
    "err_train = p_s_train-y_train\n",
    "tot_err_train = np.dot(err_train,err_train)\n",
    "rmse_train = np.sqrt(tot_err_train/len(p_s_train))\n",
    "#print 'The RMSE for train using SGD is', (rmse_train)\n",
    "\n",
    "# Compute RMSE using 10-fold x-validation\n",
    "kf = KFold(len(x_s_train), n_folds=5)\n",
    "xval_err = 0\n",
    "for train,test in kf:\n",
    "    scaler = StandardScaler()\n",
    "    scaler.fit(x_s_train[train]) \n",
    "    xtrain_s = scaler.transform(x_s_train[train])\n",
    "    xtest_s = scaler.transform(x_s_train[test]) \n",
    "    sgdreg.fit(xtrain_s,y_train[train])\n",
    "    p = sgdreg.predict(xtest_s)\n",
    "    e = p-y_train[test]\n",
    "    xval_err += np.dot(e,e)\n",
    "rmse_10cv = np.sqrt(xval_err/len(x_s_test))\n",
    "\n",
    "method_name = 'Stochastic Gradient Descent Regression'\n",
    "print('Method: %s' %method_name)\n",
    "print('RMSE on test: %.4f' %rmse_train)\n",
    "print('RMSE on 10-fold CV: %.4f' %rmse_10cv)\n"
   ]
  },
  {
   "cell_type": "code",
   "execution_count": 68,
   "metadata": {
    "collapsed": true
   },
   "outputs": [],
   "source": [
    "from sklearn.grid_search import GridSearchCV\n",
    "\n",
    "sgdreg = SGDRegressor()\n",
    "\n",
    "parameters = {\n",
    "    'penalty': ['l2','l1'],\n",
    "    'alpha': np.linspace(.0001,20,50),\n",
    "    'n_iter': [200]\n",
    "}\n",
    "\n",
    "gs = GridSearchCV(sgdreg, parameters, verbose=1, cv=5)"
   ]
  },
  {
   "cell_type": "code",
   "execution_count": 69,
   "metadata": {
    "collapsed": false
   },
   "outputs": [
    {
     "name": "stdout",
     "output_type": "stream",
     "text": [
      "Fitting 5 folds for each of 100 candidates, totalling 500 fits\n"
     ]
    },
    {
     "name": "stderr",
     "output_type": "stream",
     "text": [
      "[Parallel(n_jobs=1)]: Done  49 tasks       | elapsed:   12.2s\n",
      "[Parallel(n_jobs=1)]: Done 199 tasks       | elapsed:   51.4s\n",
      "[Parallel(n_jobs=1)]: Done 449 tasks       | elapsed:  1.9min\n"
     ]
    },
    {
     "name": "stdout",
     "output_type": "stream",
     "text": [
      "Wall time: 2min 6s\n"
     ]
    },
    {
     "name": "stderr",
     "output_type": "stream",
     "text": [
      "[Parallel(n_jobs=1)]: Done 500 out of 500 | elapsed:  2.1min finished\n"
     ]
    },
    {
     "data": {
      "text/plain": [
       "({'alpha': 0.0001, 'n_iter': 200, 'penalty': 'l2'}, 0.64759372539419668)"
      ]
     },
     "execution_count": 69,
     "metadata": {},
     "output_type": "execute_result"
    }
   ],
   "source": [
    "%time _ = gs.fit(x_s_train, y_train)\n",
    "gs.best_params_, gs.best_score_"
   ]
  },
  {
   "cell_type": "code",
   "execution_count": 70,
   "metadata": {
    "collapsed": false
   },
   "outputs": [
    {
     "name": "stdout",
     "output_type": "stream",
     "text": [
      "Method: Stochastic Gradient Descent Regression\n",
      "RMSE on test: 0.1296\n"
     ]
    }
   ],
   "source": [
    "sgdreg = SGDRegressor(penalty='l1', alpha=0.001, n_iter=200)\n",
    "\n",
    "# Compute RMSE on training data\n",
    "sgdreg.fit(x_s_test,y_test)\n",
    "p = sgdreg.predict(x_s_test)\n",
    "err = p-y_test\n",
    "total_error = np.dot(err,err)\n",
    "rmse_train = np.sqrt(total_error/len(p))\n",
    "\n",
    "method_name = 'Stochastic Gradient Descent Regression'\n",
    "print('Method: %s' %method_name)\n",
    "print('RMSE on test: %.4f' %rmse_train)"
   ]
  },
  {
   "cell_type": "code",
   "execution_count": 71,
   "metadata": {
    "collapsed": true
   },
   "outputs": [],
   "source": [
    "from sklearn.grid_search import GridSearchCV\n",
    "\n",
    "sgdreg = SGDRegressor()\n",
    "\n",
    "parameters = {\n",
    "    'penalty': ['l1'],\n",
    "    'alpha': np.linspace(.0001,40,50),\n",
    "    'n_iter': [300]\n",
    "}\n",
    "\n",
    "gs = GridSearchCV(sgdreg, parameters, verbose=1, cv=5)"
   ]
  },
  {
   "cell_type": "code",
   "execution_count": 72,
   "metadata": {
    "collapsed": false
   },
   "outputs": [
    {
     "name": "stdout",
     "output_type": "stream",
     "text": [
      "Fitting 5 folds for each of 50 candidates, totalling 250 fits\n"
     ]
    },
    {
     "name": "stderr",
     "output_type": "stream",
     "text": [
      "[Parallel(n_jobs=1)]: Done  49 tasks       | elapsed:   25.9s\n",
      "[Parallel(n_jobs=1)]: Done 199 tasks       | elapsed:  2.0min\n",
      "[Parallel(n_jobs=1)]: Done 250 out of 250 | elapsed:  2.5min finished\n"
     ]
    },
    {
     "name": "stdout",
     "output_type": "stream",
     "text": [
      "Wall time: 2min 31s\n"
     ]
    },
    {
     "data": {
      "text/plain": [
       "({'alpha': 0.0001, 'n_iter': 300, 'penalty': 'l1'}, 0.64419476075476745)"
      ]
     },
     "execution_count": 72,
     "metadata": {},
     "output_type": "execute_result"
    }
   ],
   "source": [
    "%time _ = gs.fit(x_s_train, y_train)\n",
    "gs.best_params_, gs.best_score_"
   ]
  },
  {
   "cell_type": "code",
   "execution_count": 75,
   "metadata": {
    "collapsed": false
   },
   "outputs": [
    {
     "name": "stdout",
     "output_type": "stream",
     "text": [
      "The best l1 mixing ratio is: 0.21608040201\n"
     ]
    }
   ],
   "source": [
    "l1_ratio = np.linspace(0,1,200)\n",
    "t_rmse = np.array([])\n",
    "cv_rmse = np.array([])\n",
    "\n",
    "for l in l1_ratio:\n",
    "    sgdfit = SGDRegressor(fit_intercept=True, l1_ratio=l)\n",
    "    \n",
    "    # computing the RMSE on training data\n",
    "    sgdfit.fit(x_s_train,y_train)\n",
    "    p = sgdfit.predict(x_s_train)\n",
    "    err = p-y_train\n",
    "    total_error = np.dot(err,err)\n",
    "    rmse_train = np.sqrt(total_error/len(p))\n",
    "\n",
    "    # computing RMSE using 10-fold cross validation\n",
    "    kf = KFold(len(x_s_train), n_folds=10)\n",
    "    xval_err = 0\n",
    "    for train, test in kf:\n",
    "        sgdfit.fit(x_s_train[train],y_train[train])\n",
    "        p = sgdfit.predict(x_s_train[test])\n",
    "        err = p - y_train[test]\n",
    "        xval_err += np.dot(err,err)\n",
    "    rmse_10cv = np.sqrt(xval_err/len(x_s_train))\n",
    "    \n",
    "    t_rmse = np.append(t_rmse, [rmse_train])\n",
    "    cv_rmse = np.append(cv_rmse, [rmse_10cv])\n",
    "    #print('{:.3f}\\t {:.4f}\\t\\t {:.4f}'.format(a,rmse_train,rmse_10cv))\n",
    "ratioResult = l1_ratio[np.where(cv_rmse == min(cv_rmse))[0][0]]\n",
    "print \"The best l1 mixing ratio is: \" + str(ratioResult)"
   ]
  },
  {
   "cell_type": "code",
   "execution_count": 76,
   "metadata": {
    "collapsed": false
   },
   "outputs": [
    {
     "name": "stdout",
     "output_type": "stream",
     "text": [
      "Using best Elastic Net penalty l1_ratio on the test data set\n",
      "Method: Stochastic Gradient Descent Regression\n",
      "RMSE on test: 0.1216\n"
     ]
    }
   ],
   "source": [
    "print ('Using best Elastic Net penalty l1_ratio on the test data set')\n",
    "\n",
    "elasticNet = ElasticNet(fit_intercept=True, alpha=0.0001, l1_ratio=.216)\n",
    "elasticNet.fit(x_s_test,y_test)\n",
    "# p = np.array([met.predict(xi) for xi in x])\n",
    "p = elasticNet.predict(x_s_test)\n",
    "err = p-y_test\n",
    "total_error = np.dot(err,err)\n",
    "rmse_train = np.sqrt(total_error/len(p))\n",
    "\n",
    "method_name = 'Stochastic Gradient Descent Regression'\n",
    "print('Method: %s' %method_name)\n",
    "print('RMSE on test: %.4f' %rmse_train)"
   ]
  },
  {
   "cell_type": "markdown",
   "metadata": {},
   "source": [
    "Based on the above observation, we can see that the result provided by Elastic Net is better than the one provided by grid_search"
   ]
  }
 ],
 "metadata": {
  "kernelspec": {
   "display_name": "Python 2",
   "language": "python",
   "name": "python2"
  },
  "language_info": {
   "codemirror_mode": {
    "name": "ipython",
    "version": 2
   },
   "file_extension": ".py",
   "mimetype": "text/x-python",
   "name": "python",
   "nbconvert_exporter": "python",
   "pygments_lexer": "ipython2",
   "version": "2.7.11"
  }
 },
 "nbformat": 4,
 "nbformat_minor": 0
}
